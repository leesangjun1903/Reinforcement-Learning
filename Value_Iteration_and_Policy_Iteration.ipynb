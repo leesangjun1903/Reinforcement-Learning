{
  "nbformat": 4,
  "nbformat_minor": 0,
  "metadata": {
    "colab": {
      "provenance": []
    },
    "kernelspec": {
      "name": "python3",
      "display_name": "Python 3"
    },
    "language_info": {
      "name": "python"
    }
  },
  "cells": [
    {
      "cell_type": "markdown",
      "source": [
        "# Gym toolkit : FrozenLake"
      ],
      "metadata": {
        "id": "osg1-vbLcx1X"
      }
    },
    {
      "cell_type": "code",
      "source": [
        "import gym"
      ],
      "metadata": {
        "id": "nx9pJZxVaeXc"
      },
      "execution_count": 1,
      "outputs": []
    },
    {
      "cell_type": "code",
      "source": [
        "env = gym.make(\"FrozenLake-v1\")"
      ],
      "metadata": {
        "colab": {
          "base_uri": "https://localhost:8080/"
        },
        "id": "4okEJs4yah6Z",
        "outputId": "da95591b-2245-4b1f-814e-814dcd2bec5f"
      },
      "execution_count": 3,
      "outputs": [
        {
          "output_type": "stream",
          "name": "stderr",
          "text": [
            "/usr/local/lib/python3.10/dist-packages/gym/core.py:317: DeprecationWarning: \u001b[33mWARN: Initializing wrapper in old step API which returns one bool instead of two. It is recommended to set `new_step_api=True` to use new step API. This will be the default behaviour in future.\u001b[0m\n",
            "  deprecation(\n",
            "/usr/local/lib/python3.10/dist-packages/gym/wrappers/step_api_compatibility.py:39: DeprecationWarning: \u001b[33mWARN: Initializing environment in old step API which returns one bool instead of two. It is recommended to set `new_step_api=True` to use new step API. This will be the default behaviour in future.\u001b[0m\n",
            "  deprecation(\n"
          ]
        }
      ]
    },
    {
      "cell_type": "code",
      "source": [
        "env.reset()  # Reset the environment to initialize the state\n",
        "env.render()  # Now you can render the environment"
      ],
      "metadata": {
        "colab": {
          "base_uri": "https://localhost:8080/"
        },
        "id": "KPuv0mYPaj8A",
        "outputId": "a30b9cc4-1f32-439a-97dc-7b5a7a53dddc"
      },
      "execution_count": 7,
      "outputs": [
        {
          "output_type": "stream",
          "name": "stderr",
          "text": [
            "/usr/local/lib/python3.10/dist-packages/gym/core.py:49: DeprecationWarning: \u001b[33mWARN: You are calling render method, but you didn't specified the argument render_mode at environment initialization. To maintain backward compatibility, the environment will render in human mode.\n",
            "If you want to render in human mode, initialize the environment in this way: gym.make('EnvName', render_mode='human') and don't call the render method.\n",
            "See here for more information: https://www.gymlibrary.ml/content/api/\u001b[0m\n",
            "  deprecation(\n"
          ]
        }
      ]
    },
    {
      "cell_type": "code",
      "source": [
        "print(env.observation_space)"
      ],
      "metadata": {
        "colab": {
          "base_uri": "https://localhost:8080/"
        },
        "id": "v7OpEPLHaz9-",
        "outputId": "eb8ec5f2-c561-480e-8784-fe2679d27a75"
      },
      "execution_count": 9,
      "outputs": [
        {
          "output_type": "stream",
          "name": "stdout",
          "text": [
            "Discrete(16)\n"
          ]
        }
      ]
    },
    {
      "cell_type": "code",
      "source": [
        "print(env.action_space)"
      ],
      "metadata": {
        "colab": {
          "base_uri": "https://localhost:8080/"
        },
        "id": "ku4pSqCna46L",
        "outputId": "78dc5777-eead-42be-99ad-9983789d370b"
      },
      "execution_count": 10,
      "outputs": [
        {
          "output_type": "stream",
          "name": "stdout",
          "text": [
            "Discrete(4)\n"
          ]
        }
      ]
    },
    {
      "cell_type": "code",
      "source": [
        "print(env.P[0][2])"
      ],
      "metadata": {
        "colab": {
          "base_uri": "https://localhost:8080/"
        },
        "id": "hfUlx_NQa7Rs",
        "outputId": "25c191e1-1fa9-4b27-820b-db5cc08c054d"
      },
      "execution_count": 11,
      "outputs": [
        {
          "output_type": "stream",
          "name": "stdout",
          "text": [
            "[(0.3333333333333333, 4, 0.0, False), (0.3333333333333333, 1, 0.0, False), (0.3333333333333333, 0, 0.0, False)]\n"
          ]
        }
      ]
    },
    {
      "cell_type": "code",
      "source": [
        "print(env.P[3][1])"
      ],
      "metadata": {
        "colab": {
          "base_uri": "https://localhost:8080/"
        },
        "id": "NiffAz6aa-d1",
        "outputId": "94e828d4-3f51-4cae-a14f-b4f496fafa42"
      },
      "execution_count": 12,
      "outputs": [
        {
          "output_type": "stream",
          "name": "stdout",
          "text": [
            "[(0.3333333333333333, 2, 0.0, False), (0.3333333333333333, 7, 0.0, True), (0.3333333333333333, 3, 0.0, False)]\n"
          ]
        }
      ]
    },
    {
      "cell_type": "markdown",
      "source": [
        "# Cart Pole Balancing with Random Policy"
      ],
      "metadata": {
        "id": "Sm7HZM8AbHfD"
      }
    },
    {
      "cell_type": "code",
      "source": [
        "import gym\n",
        "env = gym.make('CartPole-v0')"
      ],
      "metadata": {
        "colab": {
          "base_uri": "https://localhost:8080/"
        },
        "id": "Surc7UWBbBFT",
        "outputId": "6c94dc9c-bf08-40cc-998e-fef97d2451e9"
      },
      "execution_count": 13,
      "outputs": [
        {
          "output_type": "stream",
          "name": "stderr",
          "text": [
            "/usr/local/lib/python3.10/dist-packages/gym/envs/registration.py:593: UserWarning: \u001b[33mWARN: The environment CartPole-v0 is out of date. You should consider upgrading to version `v1`.\u001b[0m\n",
            "  logger.warn(\n",
            "/usr/local/lib/python3.10/dist-packages/gym/core.py:317: DeprecationWarning: \u001b[33mWARN: Initializing wrapper in old step API which returns one bool instead of two. It is recommended to set `new_step_api=True` to use new step API. This will be the default behaviour in future.\u001b[0m\n",
            "  deprecation(\n",
            "/usr/local/lib/python3.10/dist-packages/gym/wrappers/step_api_compatibility.py:39: DeprecationWarning: \u001b[33mWARN: Initializing environment in old step API which returns one bool instead of two. It is recommended to set `new_step_api=True` to use new step API. This will be the default behaviour in future.\u001b[0m\n",
            "  deprecation(\n"
          ]
        }
      ]
    },
    {
      "cell_type": "code",
      "source": [
        "num_episodes = 100\n",
        "num_timesteps = 50"
      ],
      "metadata": {
        "id": "yF77uGJLbLe3"
      },
      "execution_count": 14,
      "outputs": []
    },
    {
      "cell_type": "code",
      "source": [
        "#for each episode\n",
        "for i in range(num_episodes):\n",
        "\n",
        "    #set the Return to 0\n",
        "    Return = 0\n",
        "    #initialize the state by resetting the environment\n",
        "    state = env.reset()\n",
        "\n",
        "    #for each step in the episode\n",
        "    for t in range(num_timesteps):\n",
        "        #render the environment\n",
        "        env.render()\n",
        "\n",
        "        #randomly select an action by sampling from the environment\n",
        "        random_action = env.action_space.sample()\n",
        "\n",
        "        #perform the randomly selected action\n",
        "        next_state, reward, done, info = env.step(random_action)\n",
        "\n",
        "        #update the return\n",
        "        Return = Return + reward\n",
        "\n",
        "        #if the next state is a terminal state then end the episode\n",
        "        if done:\n",
        "            break\n",
        "    #for every 10 episodes, print the return (sum of rewards)\n",
        "    if i%10==0:\n",
        "        print('Episode: {}, Return: {}'.format(i, Return))\n",
        ""
      ],
      "metadata": {
        "colab": {
          "base_uri": "https://localhost:8080/"
        },
        "id": "c_ax4zA9bM9y",
        "outputId": "8664e5d4-c474-4fb4-9efd-278782d3dbd1"
      },
      "execution_count": 15,
      "outputs": [
        {
          "output_type": "stream",
          "name": "stderr",
          "text": [
            "/usr/local/lib/python3.10/dist-packages/gym/utils/passive_env_checker.py:241: DeprecationWarning: `np.bool8` is a deprecated alias for `np.bool_`.  (Deprecated NumPy 1.24)\n",
            "  if not isinstance(terminated, (bool, np.bool8)):\n"
          ]
        },
        {
          "output_type": "stream",
          "name": "stdout",
          "text": [
            "Episode: 0, Return: 22.0\n",
            "Episode: 10, Return: 12.0\n",
            "Episode: 20, Return: 14.0\n",
            "Episode: 30, Return: 12.0\n",
            "Episode: 40, Return: 11.0\n",
            "Episode: 50, Return: 20.0\n",
            "Episode: 60, Return: 18.0\n",
            "Episode: 70, Return: 20.0\n",
            "Episode: 80, Return: 15.0\n",
            "Episode: 90, Return: 17.0\n"
          ]
        }
      ]
    },
    {
      "cell_type": "code",
      "source": [
        "env.close()"
      ],
      "metadata": {
        "id": "e-4JqO27bOtZ"
      },
      "execution_count": 16,
      "outputs": []
    },
    {
      "cell_type": "markdown",
      "source": [
        "# Solving the Frozen Lake Problem with Value Iteration"
      ],
      "metadata": {
        "id": "m-bPcMFlbgTA"
      }
    },
    {
      "cell_type": "code",
      "source": [
        "!apt-get install -y xvfb x11-utils\n",
        "!pip install PyOpenGL\n",
        "!pip install PyOpenGL-accelerate\n",
        "!pip install gym[all]==0.17.*\n",
        "!apt-get install -y xvfb python-opengl ffmpeg > /dev/null 2>&1\n",
        "!pip install colabgymrender\n",
        "!pip install pyvirtualdisplay"
      ],
      "metadata": {
        "colab": {
          "base_uri": "https://localhost:8080/"
        },
        "id": "gAAmls37buik",
        "outputId": "b88aea6a-2284-4566-f3df-77b5f213fd36"
      },
      "execution_count": 26,
      "outputs": [
        {
          "output_type": "stream",
          "name": "stdout",
          "text": [
            "Reading package lists... Done\n",
            "Building dependency tree... Done\n",
            "Reading state information... Done\n",
            "The following additional packages will be installed:\n",
            "  libfontenc1 libxfont2 libxkbfile1 libxtst6 libxxf86dga1 x11-xkb-utils xfonts-base\n",
            "  xfonts-encodings xfonts-utils xserver-common\n",
            "Suggested packages:\n",
            "  mesa-utils\n",
            "The following NEW packages will be installed:\n",
            "  libfontenc1 libxfont2 libxkbfile1 libxtst6 libxxf86dga1 x11-utils x11-xkb-utils xfonts-base\n",
            "  xfonts-encodings xfonts-utils xserver-common xvfb\n",
            "0 upgraded, 12 newly installed, 0 to remove and 45 not upgraded.\n",
            "Need to get 8,045 kB of archives.\n",
            "After this operation, 12.8 MB of additional disk space will be used.\n",
            "Get:1 http://archive.ubuntu.com/ubuntu jammy/main amd64 libfontenc1 amd64 1:1.1.4-1build3 [14.7 kB]\n",
            "Get:2 http://archive.ubuntu.com/ubuntu jammy/main amd64 libxfont2 amd64 1:2.0.5-1build1 [94.5 kB]\n",
            "Get:3 http://archive.ubuntu.com/ubuntu jammy/main amd64 libxkbfile1 amd64 1:1.1.0-1build3 [71.8 kB]\n",
            "Get:4 http://archive.ubuntu.com/ubuntu jammy/main amd64 libxtst6 amd64 2:1.2.3-1build4 [13.4 kB]\n",
            "Get:5 http://archive.ubuntu.com/ubuntu jammy/main amd64 libxxf86dga1 amd64 2:1.1.5-0ubuntu3 [12.6 kB]\n",
            "Get:6 http://archive.ubuntu.com/ubuntu jammy/main amd64 x11-utils amd64 7.7+5build2 [206 kB]\n",
            "Get:7 http://archive.ubuntu.com/ubuntu jammy/main amd64 x11-xkb-utils amd64 7.7+5build4 [172 kB]\n",
            "Get:8 http://archive.ubuntu.com/ubuntu jammy/main amd64 xfonts-encodings all 1:1.0.5-0ubuntu2 [578 kB]\n",
            "Get:9 http://archive.ubuntu.com/ubuntu jammy/main amd64 xfonts-utils amd64 1:7.7+6build2 [94.6 kB]\n",
            "Get:10 http://archive.ubuntu.com/ubuntu jammy/main amd64 xfonts-base all 1:1.0.5 [5,896 kB]\n",
            "Get:11 http://archive.ubuntu.com/ubuntu jammy-updates/main amd64 xserver-common all 2:21.1.4-2ubuntu1.7~22.04.10 [28.5 kB]\n",
            "Get:12 http://archive.ubuntu.com/ubuntu jammy-updates/universe amd64 xvfb amd64 2:21.1.4-2ubuntu1.7~22.04.10 [863 kB]\n",
            "Fetched 8,045 kB in 2s (4,324 kB/s)\n",
            "Selecting previously unselected package libfontenc1:amd64.\n",
            "(Reading database ... 121913 files and directories currently installed.)\n",
            "Preparing to unpack .../00-libfontenc1_1%3a1.1.4-1build3_amd64.deb ...\n",
            "Unpacking libfontenc1:amd64 (1:1.1.4-1build3) ...\n",
            "Selecting previously unselected package libxfont2:amd64.\n",
            "Preparing to unpack .../01-libxfont2_1%3a2.0.5-1build1_amd64.deb ...\n",
            "Unpacking libxfont2:amd64 (1:2.0.5-1build1) ...\n",
            "Selecting previously unselected package libxkbfile1:amd64.\n",
            "Preparing to unpack .../02-libxkbfile1_1%3a1.1.0-1build3_amd64.deb ...\n",
            "Unpacking libxkbfile1:amd64 (1:1.1.0-1build3) ...\n",
            "Selecting previously unselected package libxtst6:amd64.\n",
            "Preparing to unpack .../03-libxtst6_2%3a1.2.3-1build4_amd64.deb ...\n",
            "Unpacking libxtst6:amd64 (2:1.2.3-1build4) ...\n",
            "Selecting previously unselected package libxxf86dga1:amd64.\n",
            "Preparing to unpack .../04-libxxf86dga1_2%3a1.1.5-0ubuntu3_amd64.deb ...\n",
            "Unpacking libxxf86dga1:amd64 (2:1.1.5-0ubuntu3) ...\n",
            "Selecting previously unselected package x11-utils.\n",
            "Preparing to unpack .../05-x11-utils_7.7+5build2_amd64.deb ...\n",
            "Unpacking x11-utils (7.7+5build2) ...\n",
            "Selecting previously unselected package x11-xkb-utils.\n",
            "Preparing to unpack .../06-x11-xkb-utils_7.7+5build4_amd64.deb ...\n",
            "Unpacking x11-xkb-utils (7.7+5build4) ...\n",
            "Selecting previously unselected package xfonts-encodings.\n",
            "Preparing to unpack .../07-xfonts-encodings_1%3a1.0.5-0ubuntu2_all.deb ...\n",
            "Unpacking xfonts-encodings (1:1.0.5-0ubuntu2) ...\n",
            "Selecting previously unselected package xfonts-utils.\n",
            "Preparing to unpack .../08-xfonts-utils_1%3a7.7+6build2_amd64.deb ...\n",
            "Unpacking xfonts-utils (1:7.7+6build2) ...\n",
            "Selecting previously unselected package xfonts-base.\n",
            "Preparing to unpack .../09-xfonts-base_1%3a1.0.5_all.deb ...\n",
            "Unpacking xfonts-base (1:1.0.5) ...\n",
            "Selecting previously unselected package xserver-common.\n",
            "Preparing to unpack .../10-xserver-common_2%3a21.1.4-2ubuntu1.7~22.04.10_all.deb ...\n",
            "Unpacking xserver-common (2:21.1.4-2ubuntu1.7~22.04.10) ...\n",
            "Selecting previously unselected package xvfb.\n",
            "Preparing to unpack .../11-xvfb_2%3a21.1.4-2ubuntu1.7~22.04.10_amd64.deb ...\n",
            "Unpacking xvfb (2:21.1.4-2ubuntu1.7~22.04.10) ...\n",
            "Setting up libxtst6:amd64 (2:1.2.3-1build4) ...\n",
            "Setting up libxxf86dga1:amd64 (2:1.1.5-0ubuntu3) ...\n",
            "Setting up libfontenc1:amd64 (1:1.1.4-1build3) ...\n",
            "Setting up xfonts-encodings (1:1.0.5-0ubuntu2) ...\n",
            "Setting up libxkbfile1:amd64 (1:1.1.0-1build3) ...\n",
            "Setting up libxfont2:amd64 (1:2.0.5-1build1) ...\n",
            "Setting up x11-xkb-utils (7.7+5build4) ...\n",
            "Setting up xfonts-utils (1:7.7+6build2) ...\n",
            "Setting up xfonts-base (1:1.0.5) ...\n",
            "Setting up x11-utils (7.7+5build2) ...\n",
            "Setting up xserver-common (2:21.1.4-2ubuntu1.7~22.04.10) ...\n",
            "Setting up xvfb (2:21.1.4-2ubuntu1.7~22.04.10) ...\n",
            "Processing triggers for man-db (2.10.2-1) ...\n",
            "Processing triggers for fontconfig (2.13.1-4.2ubuntu5) ...\n",
            "Processing triggers for libc-bin (2.35-0ubuntu3.4) ...\n",
            "/sbin/ldconfig.real: /usr/local/lib/libtbbbind.so.3 is not a symbolic link\n",
            "\n",
            "/sbin/ldconfig.real: /usr/local/lib/libtbbbind_2_0.so.3 is not a symbolic link\n",
            "\n",
            "/sbin/ldconfig.real: /usr/local/lib/libtbbmalloc_proxy.so.2 is not a symbolic link\n",
            "\n",
            "/sbin/ldconfig.real: /usr/local/lib/libtbbmalloc.so.2 is not a symbolic link\n",
            "\n",
            "/sbin/ldconfig.real: /usr/local/lib/libtbb.so.12 is not a symbolic link\n",
            "\n",
            "/sbin/ldconfig.real: /usr/local/lib/libtbbbind_2_5.so.3 is not a symbolic link\n",
            "\n",
            "Requirement already satisfied: PyOpenGL in /usr/local/lib/python3.10/dist-packages (3.1.7)\n",
            "Collecting PyOpenGL-accelerate\n",
            "  Downloading PyOpenGL_accelerate-3.1.7-cp310-cp310-manylinux_2_5_x86_64.manylinux1_x86_64.manylinux_2_17_x86_64.manylinux2014_x86_64.whl (2.3 MB)\n",
            "\u001b[2K     \u001b[90m━━━━━━━━━━━━━━━━━━━━━━━━━━━━━━━━━━━━━━━━\u001b[0m \u001b[32m2.3/2.3 MB\u001b[0m \u001b[31m11.0 MB/s\u001b[0m eta \u001b[36m0:00:00\u001b[0m\n",
            "\u001b[?25hInstalling collected packages: PyOpenGL-accelerate\n",
            "Successfully installed PyOpenGL-accelerate-3.1.7\n",
            "Collecting gym[all]==0.17.*\n",
            "  Downloading gym-0.17.3.tar.gz (1.6 MB)\n",
            "\u001b[2K     \u001b[90m━━━━━━━━━━━━━━━━━━━━━━━━━━━━━━━━━━━━━━━━\u001b[0m \u001b[32m1.6/1.6 MB\u001b[0m \u001b[31m9.9 MB/s\u001b[0m eta \u001b[36m0:00:00\u001b[0m\n",
            "\u001b[?25h  Preparing metadata (setup.py) ... \u001b[?25l\u001b[?25hdone\n",
            "Requirement already satisfied: scipy in /usr/local/lib/python3.10/dist-packages (from gym[all]==0.17.*) (1.11.4)\n",
            "Requirement already satisfied: numpy>=1.10.4 in /usr/local/lib/python3.10/dist-packages (from gym[all]==0.17.*) (1.25.2)\n",
            "Collecting pyglet<=1.5.0,>=1.4.0 (from gym[all]==0.17.*)\n",
            "  Downloading pyglet-1.5.0-py2.py3-none-any.whl (1.0 MB)\n",
            "\u001b[2K     \u001b[90m━━━━━━━━━━━━━━━━━━━━━━━━━━━━━━━━━━━━━━━━\u001b[0m \u001b[32m1.0/1.0 MB\u001b[0m \u001b[31m17.7 MB/s\u001b[0m eta \u001b[36m0:00:00\u001b[0m\n",
            "\u001b[?25hCollecting cloudpickle<1.7.0,>=1.2.0 (from gym[all]==0.17.*)\n",
            "  Downloading cloudpickle-1.6.0-py3-none-any.whl (23 kB)\n",
            "Collecting atari_py~=0.2.0 (from gym[all]==0.17.*)\n",
            "  Downloading atari-py-0.2.9.tar.gz (540 kB)\n",
            "\u001b[2K     \u001b[90m━━━━━━━━━━━━━━━━━━━━━━━━━━━━━━━━━━━━━━━━\u001b[0m \u001b[32m540.6/540.6 kB\u001b[0m \u001b[31m20.2 MB/s\u001b[0m eta \u001b[36m0:00:00\u001b[0m\n",
            "\u001b[?25h  Preparing metadata (setup.py) ... \u001b[?25l\u001b[?25hdone\n",
            "Requirement already satisfied: Pillow in /usr/local/lib/python3.10/dist-packages (from gym[all]==0.17.*) (9.4.0)\n",
            "Requirement already satisfied: opencv-python in /usr/local/lib/python3.10/dist-packages (from gym[all]==0.17.*) (4.8.0.76)\n",
            "Collecting box2d-py~=2.3.5 (from gym[all]==0.17.*)\n",
            "  Downloading box2d-py-2.3.8.tar.gz (374 kB)\n",
            "\u001b[2K     \u001b[90m━━━━━━━━━━━━━━━━━━━━━━━━━━━━━━━━━━━━━━━━\u001b[0m \u001b[32m374.5/374.5 kB\u001b[0m \u001b[31m21.7 MB/s\u001b[0m eta \u001b[36m0:00:00\u001b[0m\n",
            "\u001b[?25h  Preparing metadata (setup.py) ... \u001b[?25l\u001b[?25hdone\n",
            "Collecting mujoco_py<2.0,>=1.50 (from gym[all]==0.17.*)\n",
            "  Downloading mujoco-py-1.50.1.68.tar.gz (120 kB)\n",
            "\u001b[2K     \u001b[90m━━━━━━━━━━━━━━━━━━━━━━━━━━━━━━━━━━━━━━━━\u001b[0m \u001b[32m120.7/120.7 kB\u001b[0m \u001b[31m13.9 MB/s\u001b[0m eta \u001b[36m0:00:00\u001b[0m\n",
            "\u001b[?25h  Preparing metadata (setup.py) ... \u001b[?25l\u001b[?25hdone\n",
            "Requirement already satisfied: imageio in /usr/local/lib/python3.10/dist-packages (from gym[all]==0.17.*) (2.31.6)\n",
            "Requirement already satisfied: six in /usr/local/lib/python3.10/dist-packages (from atari_py~=0.2.0->gym[all]==0.17.*) (1.16.0)\n",
            "Collecting glfw>=1.4.0 (from mujoco_py<2.0,>=1.50->gym[all]==0.17.*)\n",
            "  Downloading glfw-2.7.0-py2.py27.py3.py30.py31.py32.py33.py34.py35.py36.py37.py38-none-manylinux2014_x86_64.whl (211 kB)\n",
            "\u001b[2K     \u001b[90m━━━━━━━━━━━━━━━━━━━━━━━━━━━━━━━━━━━━━━━━\u001b[0m \u001b[32m211.8/211.8 kB\u001b[0m \u001b[31m23.9 MB/s\u001b[0m eta \u001b[36m0:00:00\u001b[0m\n",
            "\u001b[?25hRequirement already satisfied: Cython>=0.27.2 in /usr/local/lib/python3.10/dist-packages (from mujoco_py<2.0,>=1.50->gym[all]==0.17.*) (3.0.10)\n",
            "Requirement already satisfied: cffi>=1.10 in /usr/local/lib/python3.10/dist-packages (from mujoco_py<2.0,>=1.50->gym[all]==0.17.*) (1.16.0)\n",
            "Collecting lockfile>=0.12.2 (from mujoco_py<2.0,>=1.50->gym[all]==0.17.*)\n",
            "  Downloading lockfile-0.12.2-py2.py3-none-any.whl (13 kB)\n",
            "Requirement already satisfied: future in /usr/local/lib/python3.10/dist-packages (from pyglet<=1.5.0,>=1.4.0->gym[all]==0.17.*) (0.18.3)\n",
            "Requirement already satisfied: pycparser in /usr/local/lib/python3.10/dist-packages (from cffi>=1.10->mujoco_py<2.0,>=1.50->gym[all]==0.17.*) (2.22)\n",
            "Building wheels for collected packages: atari_py, box2d-py, mujoco_py, gym\n",
            "  Building wheel for atari_py (setup.py) ... \u001b[?25l\u001b[?25hcanceled\n",
            "Traceback (most recent call last):\n",
            "  File \"/usr/local/lib/python3.10/dist-packages/pip/_internal/cli/base_command.py\", line 169, in exc_logging_wrapper\n",
            "    status = run_func(*args)\n",
            "  File \"/usr/local/lib/python3.10/dist-packages/pip/_internal/cli/req_command.py\", line 242, in wrapper\n",
            "    return func(self, options, args)\n",
            "  File \"/usr/local/lib/python3.10/dist-packages/pip/_internal/commands/install.py\", line 417, in run\n",
            "    _, build_failures = build(\n",
            "  File \"/usr/local/lib/python3.10/dist-packages/pip/_internal/wheel_builder.py\", line 320, in build\n",
            "    wheel_file = _build_one(\n",
            "  File \"/usr/local/lib/python3.10/dist-packages/pip/_internal/wheel_builder.py\", line 194, in _build_one\n",
            "    wheel_path = _build_one_inside_env(\n",
            "  File \"/usr/local/lib/python3.10/dist-packages/pip/_internal/wheel_builder.py\", line 241, in _build_one_inside_env\n",
            "    wheel_path = build_wheel_legacy(\n",
            "  File \"/usr/local/lib/python3.10/dist-packages/pip/_internal/operations/build/wheel_legacy.py\", line 83, in build_wheel_legacy\n",
            "    output = call_subprocess(\n",
            "  File \"/usr/local/lib/python3.10/dist-packages/pip/_internal/utils/subprocess.py\", line 166, in call_subprocess\n",
            "    line: str = proc.stdout.readline()\n",
            "KeyboardInterrupt\n",
            "\n",
            "During handling of the above exception, another exception occurred:\n",
            "\n",
            "Traceback (most recent call last):\n",
            "  File \"/usr/local/bin/pip3\", line 8, in <module>\n",
            "    sys.exit(main())\n",
            "  File \"/usr/local/lib/python3.10/dist-packages/pip/_internal/cli/main.py\", line 79, in main\n",
            "    return command.main(cmd_args)\n",
            "  File \"/usr/local/lib/python3.10/dist-packages/pip/_internal/cli/base_command.py\", line 101, in main\n",
            "    return self._main(args)\n",
            "  File \"/usr/local/lib/python3.10/dist-packages/pip/_internal/cli/base_command.py\", line 223, in _main\n",
            "    return run(options, args)\n",
            "  File \"/usr/local/lib/python3.10/dist-packages/pip/_internal/cli/base_command.py\", line 206, in exc_logging_wrapper\n",
            "    logger.critical(\"Operation cancelled by user\")\n",
            "  File \"/usr/lib/python3.10/logging/__init__.py\", line 1524, in critical\n",
            "    self._log(CRITICAL, msg, args, **kwargs)\n",
            "  File \"/usr/lib/python3.10/logging/__init__.py\", line 1624, in _log\n",
            "    self.handle(record)\n",
            "  File \"/usr/lib/python3.10/logging/__init__.py\", line 1634, in handle\n",
            "    self.callHandlers(record)\n",
            "  File \"/usr/lib/python3.10/logging/__init__.py\", line 1696, in callHandlers\n",
            "    hdlr.handle(record)\n",
            "  File \"/usr/lib/python3.10/logging/__init__.py\", line 968, in handle\n",
            "    self.emit(record)\n",
            "  File \"/usr/local/lib/python3.10/dist-packages/pip/_internal/utils/logging.py\", line 177, in emit\n",
            "    self.console.print(renderable, overflow=\"ignore\", crop=False, style=style)\n",
            "  File \"/usr/local/lib/python3.10/dist-packages/pip/_vendor/rich/console.py\", line 1701, in print\n",
            "    extend(\n",
            "  File \"/usr/local/lib/python3.10/dist-packages/pip/_vendor/rich/segment.py\", line 198, in <genexpr>\n",
            "    result_segments = (\n",
            "  File \"/usr/local/lib/python3.10/dist-packages/pip/_vendor/rich/console.py\", line 1330, in render\n",
            "    for render_output in iter_render:\n",
            "  File \"/usr/local/lib/python3.10/dist-packages/pip/_vendor/rich/text.py\", line 663, in __rich_console__\n",
            "    yield from all_lines.render(console, end=self.end)\n",
            "  File \"/usr/local/lib/python3.10/dist-packages/pip/_vendor/rich/text.py\", line 688, in render\n",
            "    text = self.plain\n",
            "  File \"/usr/local/lib/python3.10/dist-packages/pip/_vendor/rich/text.py\", line 382, in plain\n",
            "    @property\n",
            "KeyboardInterrupt\n",
            "^C\n",
            "Collecting colabgymrender\n",
            "  Downloading colabgymrender-1.1.0.tar.gz (3.5 kB)\n",
            "  Preparing metadata (setup.py) ... \u001b[?25l\u001b[?25hdone\n",
            "Requirement already satisfied: moviepy in /usr/local/lib/python3.10/dist-packages (from colabgymrender) (1.0.3)\n",
            "Requirement already satisfied: decorator<5.0,>=4.0.2 in /usr/local/lib/python3.10/dist-packages (from moviepy->colabgymrender) (4.4.2)\n",
            "Requirement already satisfied: tqdm<5.0,>=4.11.2 in /usr/local/lib/python3.10/dist-packages (from moviepy->colabgymrender) (4.66.4)\n",
            "Requirement already satisfied: requests<3.0,>=2.8.1 in /usr/local/lib/python3.10/dist-packages (from moviepy->colabgymrender) (2.31.0)\n",
            "Requirement already satisfied: proglog<=1.0.0 in /usr/local/lib/python3.10/dist-packages (from moviepy->colabgymrender) (0.1.10)\n",
            "Requirement already satisfied: numpy>=1.17.3 in /usr/local/lib/python3.10/dist-packages (from moviepy->colabgymrender) (1.25.2)\n",
            "Requirement already satisfied: imageio<3.0,>=2.5 in /usr/local/lib/python3.10/dist-packages (from moviepy->colabgymrender) (2.31.6)\n",
            "Requirement already satisfied: imageio-ffmpeg>=0.2.0 in /usr/local/lib/python3.10/dist-packages (from moviepy->colabgymrender) (0.5.1)\n",
            "Requirement already satisfied: pillow<10.1.0,>=8.3.2 in /usr/local/lib/python3.10/dist-packages (from imageio<3.0,>=2.5->moviepy->colabgymrender) (9.4.0)\n",
            "Requirement already satisfied: setuptools in /usr/local/lib/python3.10/dist-packages (from imageio-ffmpeg>=0.2.0->moviepy->colabgymrender) (67.7.2)\n",
            "Requirement already satisfied: charset-normalizer<4,>=2 in /usr/local/lib/python3.10/dist-packages (from requests<3.0,>=2.8.1->moviepy->colabgymrender) (3.3.2)\n",
            "Requirement already satisfied: idna<4,>=2.5 in /usr/local/lib/python3.10/dist-packages (from requests<3.0,>=2.8.1->moviepy->colabgymrender) (3.7)\n",
            "Requirement already satisfied: urllib3<3,>=1.21.1 in /usr/local/lib/python3.10/dist-packages (from requests<3.0,>=2.8.1->moviepy->colabgymrender) (2.0.7)\n",
            "Requirement already satisfied: certifi>=2017.4.17 in /usr/local/lib/python3.10/dist-packages (from requests<3.0,>=2.8.1->moviepy->colabgymrender) (2024.6.2)\n",
            "Building wheels for collected packages: colabgymrender\n",
            "  Building wheel for colabgymrender (setup.py) ... \u001b[?25l\u001b[?25hdone\n",
            "  Created wheel for colabgymrender: filename=colabgymrender-1.1.0-py3-none-any.whl size=3114 sha256=bb57b34cc6e91916fe82651a224bece1ae154d217aecccea663d91486c6f0a36\n",
            "  Stored in directory: /root/.cache/pip/wheels/13/62/63/7b3acfb684dd3d665d7fc1d213427b136205a222389767e295\n",
            "Successfully built colabgymrender\n",
            "Installing collected packages: colabgymrender\n",
            "Successfully installed colabgymrender-1.1.0\n",
            "Collecting pyvirtualdisplay\n",
            "  Downloading PyVirtualDisplay-3.0-py3-none-any.whl (15 kB)\n",
            "Installing collected packages: pyvirtualdisplay\n",
            "Successfully installed pyvirtualdisplay-3.0\n"
          ]
        }
      ]
    },
    {
      "cell_type": "code",
      "source": [
        "import gym\n",
        "import numpy as np"
      ],
      "metadata": {
        "id": "lPxfLjnxck-z"
      },
      "execution_count": 27,
      "outputs": []
    },
    {
      "cell_type": "code",
      "source": [
        "env = gym.make('FrozenLake-v1')"
      ],
      "metadata": {
        "colab": {
          "base_uri": "https://localhost:8080/"
        },
        "id": "8KsYG1R-c2uT",
        "outputId": "ff524e7c-fbe3-416e-e241-3782b32375dd"
      },
      "execution_count": 28,
      "outputs": [
        {
          "output_type": "stream",
          "name": "stderr",
          "text": [
            "/usr/local/lib/python3.10/dist-packages/gym/core.py:317: DeprecationWarning: \u001b[33mWARN: Initializing wrapper in old step API which returns one bool instead of two. It is recommended to set `new_step_api=True` to use new step API. This will be the default behaviour in future.\u001b[0m\n",
            "  deprecation(\n",
            "/usr/local/lib/python3.10/dist-packages/gym/wrappers/step_api_compatibility.py:39: DeprecationWarning: \u001b[33mWARN: Initializing environment in old step API which returns one bool instead of two. It is recommended to set `new_step_api=True` to use new step API. This will be the default behaviour in future.\u001b[0m\n",
            "  deprecation(\n"
          ]
        }
      ]
    },
    {
      "cell_type": "code",
      "source": [
        "env.reset()"
      ],
      "metadata": {
        "colab": {
          "base_uri": "https://localhost:8080/"
        },
        "id": "7k-r7V2kdCn9",
        "outputId": "667ae204-eff4-4278-ff24-15e67868cca3"
      },
      "execution_count": 29,
      "outputs": [
        {
          "output_type": "execute_result",
          "data": {
            "text/plain": [
              "0"
            ]
          },
          "metadata": {},
          "execution_count": 29
        }
      ]
    },
    {
      "cell_type": "code",
      "source": [
        "env.render()"
      ],
      "metadata": {
        "colab": {
          "base_uri": "https://localhost:8080/"
        },
        "id": "4NIkQV8xc45L",
        "outputId": "0127b9d9-2807-4d46-ba14-58b37169df4a"
      },
      "execution_count": 30,
      "outputs": [
        {
          "output_type": "stream",
          "name": "stderr",
          "text": [
            "/usr/local/lib/python3.10/dist-packages/gym/core.py:49: DeprecationWarning: \u001b[33mWARN: You are calling render method, but you didn't specified the argument render_mode at environment initialization. To maintain backward compatibility, the environment will render in human mode.\n",
            "If you want to render in human mode, initialize the environment in this way: gym.make('EnvName', render_mode='human') and don't call the render method.\n",
            "See here for more information: https://www.gymlibrary.ml/content/api/\u001b[0m\n",
            "  deprecation(\n"
          ]
        }
      ]
    },
    {
      "cell_type": "code",
      "source": [
        "def value_iteration(env):\n",
        "\n",
        "    #set the number of iterations\n",
        "    num_iterations = 1000\n",
        "\n",
        "    #set the threshold number for checking the convergence of the value function\n",
        "    threshold = 1e-20\n",
        "\n",
        "    #we also set the discount factor\n",
        "    gamma = 1.0\n",
        "\n",
        "    #now, we will initialize the value table, with the value of all states to zero\n",
        "    value_table = np.zeros(env.observation_space.n)\n",
        "\n",
        "    #for every iteration\n",
        "    for i in range(num_iterations):\n",
        "\n",
        "        #update the value table, that is, we learned that on every iteration, we use the updated value\n",
        "        #table (state values) from the previous iteration\n",
        "        updated_value_table = np.copy(value_table)\n",
        "\n",
        "        #now, we compute the value function (state value) by taking the maximum of Q value.\n",
        "\n",
        "        #thus, for each state, we compute the Q values of all the actions in the state and then\n",
        "        #we update the value of the state as the one which has maximum Q value as shown below:\n",
        "        for s in range(env.observation_space.n):\n",
        "\n",
        "            Q_values = [sum([prob*(r + gamma * updated_value_table[s_])\n",
        "                             for prob, s_, r, _ in env.P[s][a]])\n",
        "                                   for a in range(env.action_space.n)]\n",
        "\n",
        "            value_table[s] = max(Q_values)\n",
        "\n",
        "        #after computing the value table, that is, value of all the states, we check whether the\n",
        "        #difference between value table obtained in the current iteration and previous iteration is\n",
        "        #less than or equal to a threshold value if it is less then we break the loop and return the\n",
        "        #value table as our optimal value function as shown below:\n",
        "\n",
        "        if (np.sum(np.fabs(updated_value_table - value_table)) <= threshold):\n",
        "             break\n",
        "\n",
        "    return value_table"
      ],
      "metadata": {
        "id": "qcuhIgZddQwF"
      },
      "execution_count": 31,
      "outputs": []
    },
    {
      "cell_type": "code",
      "source": [
        "def extract_policy(value_table):\n",
        "\n",
        "    #set the discount factor\n",
        "    gamma = 1.0\n",
        "\n",
        "    #first, we initialize the policy with zeros, that is, first, we set the actions for all the states to\n",
        "    #be zero\n",
        "    policy = np.zeros(env.observation_space.n)\n",
        "\n",
        "    #now, we compute the Q function using the optimal value function obtained from the\n",
        "    #previous step. After computing the Q function, we can extract policy by selecting action which has\n",
        "    #maximum Q value. Since we are computing the Q function using the optimal value\n",
        "    #function, the policy extracted from the Q function will be the optimal policy.\n",
        "\n",
        "    #As shown below, for each state, we compute the Q values for all the actions in the state and\n",
        "    #then we extract policy by selecting the action which has maximum Q value.\n",
        "\n",
        "    #for each state\n",
        "    for s in range(env.observation_space.n):\n",
        "\n",
        "        #compute the Q value of all the actions in the state\n",
        "        Q_values = [sum([prob*(r + gamma * value_table[s_])\n",
        "                             for prob, s_, r, _ in env.P[s][a]])\n",
        "                                   for a in range(env.action_space.n)]\n",
        "\n",
        "        #extract policy by selecting the action which has maximum Q value\n",
        "        policy[s] = np.argmax(np.array(Q_values))\n",
        "\n",
        "    return policy"
      ],
      "metadata": {
        "id": "oQ9RkgtQdaE1"
      },
      "execution_count": 32,
      "outputs": []
    },
    {
      "cell_type": "code",
      "source": [
        "optimal_value_function = value_iteration(env=env)"
      ],
      "metadata": {
        "id": "otEb4p3Jdd-4"
      },
      "execution_count": 33,
      "outputs": []
    },
    {
      "cell_type": "code",
      "source": [
        "optimal_policy = extract_policy(optimal_value_function)"
      ],
      "metadata": {
        "id": "kvFsEI7TdgWZ"
      },
      "execution_count": 34,
      "outputs": []
    },
    {
      "cell_type": "code",
      "source": [
        "print(optimal_policy)"
      ],
      "metadata": {
        "colab": {
          "base_uri": "https://localhost:8080/"
        },
        "id": "o8jEKfeYdjBT",
        "outputId": "280daea8-fb23-475e-af59-b13a006e6644"
      },
      "execution_count": 35,
      "outputs": [
        {
          "output_type": "stream",
          "name": "stdout",
          "text": [
            "[0. 3. 3. 3. 0. 0. 0. 0. 3. 1. 0. 0. 0. 2. 1. 0.]\n"
          ]
        }
      ]
    },
    {
      "cell_type": "code",
      "source": [
        "!pip install gymnasium"
      ],
      "metadata": {
        "colab": {
          "base_uri": "https://localhost:8080/"
        },
        "id": "OfNME31IfGCN",
        "outputId": "92f52447-815c-4f42-e147-b266550fc0fd"
      },
      "execution_count": 41,
      "outputs": [
        {
          "output_type": "stream",
          "name": "stderr",
          "text": [
            "/usr/local/lib/python3.10/dist-packages/ipykernel/ipkernel.py:283: DeprecationWarning: `should_run_async` will not call `transform_cell` automatically in the future. Please pass the result to `transformed_cell` argument and any exception that happen during thetransform in `preprocessing_exc_tuple` in IPython 7.17 and above.\n",
            "  and should_run_async(code)\n"
          ]
        },
        {
          "output_type": "stream",
          "name": "stdout",
          "text": [
            "Collecting gymnasium\n",
            "  Downloading gymnasium-0.29.1-py3-none-any.whl (953 kB)\n",
            "\u001b[2K     \u001b[90m━━━━━━━━━━━━━━━━━━━━━━━━━━━━━━━━━━━━━━━━\u001b[0m \u001b[32m953.9/953.9 kB\u001b[0m \u001b[31m7.5 MB/s\u001b[0m eta \u001b[36m0:00:00\u001b[0m\n",
            "\u001b[?25hRequirement already satisfied: numpy>=1.21.0 in /usr/local/lib/python3.10/dist-packages (from gymnasium) (1.25.2)\n",
            "Requirement already satisfied: cloudpickle>=1.2.0 in /usr/local/lib/python3.10/dist-packages (from gymnasium) (2.2.1)\n",
            "Requirement already satisfied: typing-extensions>=4.3.0 in /usr/local/lib/python3.10/dist-packages (from gymnasium) (4.12.2)\n",
            "Collecting farama-notifications>=0.0.1 (from gymnasium)\n",
            "  Downloading Farama_Notifications-0.0.4-py3-none-any.whl (2.5 kB)\n",
            "Installing collected packages: farama-notifications, gymnasium\n",
            "Successfully installed farama-notifications-0.0.4 gymnasium-0.29.1\n"
          ]
        }
      ]
    },
    {
      "cell_type": "code",
      "source": [
        "import gymnasium as gym\n",
        "import numpy as np\n",
        "import random\n",
        "import matplotlib.pyplot as plt\n",
        "\n",
        "import cv2\n",
        "from google.colab.patches import cv2_imshow\n",
        "\n",
        "import PIL.Image\n",
        "from IPython.display import Image"
      ],
      "metadata": {
        "id": "JLirO5S0eqZO"
      },
      "execution_count": 42,
      "outputs": []
    },
    {
      "cell_type": "code",
      "source": [
        "from gymnasium.envs.toy_text.frozen_lake import generate_random_map"
      ],
      "metadata": {
        "id": "qxfUHqzte6zx"
      },
      "execution_count": 43,
      "outputs": []
    },
    {
      "cell_type": "code",
      "source": [
        "env = gym.make(\n",
        "    \"FrozenLake-v1\",\n",
        "    is_slippery = False,        # Whether a transition occurs stochastically (True) or deterministically (False)\n",
        "    render_mode = 'rgb_array',\n",
        "    desc = generate_random_map(\n",
        "        size=4,                 # Frozen Lake grid size (map_size x map_size)\n",
        "        p = 0.79,                # Probability that a tile is frozen\n",
        "        seed=830                # A fixed seed produces always the same map.\n",
        "    )\n",
        ")\n",
        "\n",
        "state, info = env.reset()\n",
        "env.render()"
      ],
      "metadata": {
        "colab": {
          "base_uri": "https://localhost:8080/",
          "height": 298
        },
        "id": "RkPDCFRhe_Cb",
        "outputId": "40a9dd23-6267-4be0-8061-6ec7566f4273"
      },
      "execution_count": 44,
      "outputs": [
        {
          "output_type": "execute_result",
          "data": {
            "text/plain": [
              "array([[[180, 200, 230],\n",
              "        [180, 200, 230],\n",
              "        [180, 200, 230],\n",
              "        ...,\n",
              "        [180, 200, 230],\n",
              "        [180, 200, 230],\n",
              "        [180, 200, 230]],\n",
              "\n",
              "       [[180, 200, 230],\n",
              "        [204, 230, 255],\n",
              "        [204, 230, 255],\n",
              "        ...,\n",
              "        [204, 230, 255],\n",
              "        [204, 230, 255],\n",
              "        [180, 200, 230]],\n",
              "\n",
              "       [[180, 200, 230],\n",
              "        [235, 245, 249],\n",
              "        [204, 230, 255],\n",
              "        ...,\n",
              "        [204, 230, 255],\n",
              "        [204, 230, 255],\n",
              "        [180, 200, 230]],\n",
              "\n",
              "       ...,\n",
              "\n",
              "       [[180, 200, 230],\n",
              "        [235, 245, 249],\n",
              "        [235, 245, 249],\n",
              "        ...,\n",
              "        [204, 230, 255],\n",
              "        [235, 245, 249],\n",
              "        [180, 200, 230]],\n",
              "\n",
              "       [[180, 200, 230],\n",
              "        [235, 245, 249],\n",
              "        [235, 245, 249],\n",
              "        ...,\n",
              "        [204, 230, 255],\n",
              "        [204, 230, 255],\n",
              "        [180, 200, 230]],\n",
              "\n",
              "       [[180, 200, 230],\n",
              "        [180, 200, 230],\n",
              "        [180, 200, 230],\n",
              "        ...,\n",
              "        [180, 200, 230],\n",
              "        [180, 200, 230],\n",
              "        [180, 200, 230]]], dtype=uint8)"
            ],
            "text/html": [
              "<style>\n",
              "      .ndarray_repr .ndarray_raw_data {\n",
              "        display: none;\n",
              "      }\n",
              "      .ndarray_repr.show_array .ndarray_raw_data {\n",
              "        display: block;\n",
              "      }\n",
              "      .ndarray_repr.show_array .ndarray_image_preview {\n",
              "        display: none;\n",
              "      }\n",
              "      </style>\n",
              "      <div id=\"id-042fc59d-5f66-48fb-af93-6fb3b2f78daf\" class=\"ndarray_repr\"><pre>ndarray (256, 256, 3) <button style=\"padding: 0 2px;\">show data</button></pre><img src=\"data:image/png;base64,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\" class=\"ndarray_image_preview\" /><pre class=\"ndarray_raw_data\">array([[[180, 200, 230],\n",
              "        [180, 200, 230],\n",
              "        [180, 200, 230],\n",
              "        ...,\n",
              "        [180, 200, 230],\n",
              "        [180, 200, 230],\n",
              "        [180, 200, 230]],\n",
              "\n",
              "       [[180, 200, 230],\n",
              "        [204, 230, 255],\n",
              "        [204, 230, 255],\n",
              "        ...,\n",
              "        [204, 230, 255],\n",
              "        [204, 230, 255],\n",
              "        [180, 200, 230]],\n",
              "\n",
              "       [[180, 200, 230],\n",
              "        [235, 245, 249],\n",
              "        [204, 230, 255],\n",
              "        ...,\n",
              "        [204, 230, 255],\n",
              "        [204, 230, 255],\n",
              "        [180, 200, 230]],\n",
              "\n",
              "       ...,\n",
              "\n",
              "       [[180, 200, 230],\n",
              "        [235, 245, 249],\n",
              "        [235, 245, 249],\n",
              "        ...,\n",
              "        [204, 230, 255],\n",
              "        [235, 245, 249],\n",
              "        [180, 200, 230]],\n",
              "\n",
              "       [[180, 200, 230],\n",
              "        [235, 245, 249],\n",
              "        [235, 245, 249],\n",
              "        ...,\n",
              "        [204, 230, 255],\n",
              "        [204, 230, 255],\n",
              "        [180, 200, 230]],\n",
              "\n",
              "       [[180, 200, 230],\n",
              "        [180, 200, 230],\n",
              "        [180, 200, 230],\n",
              "        ...,\n",
              "        [180, 200, 230],\n",
              "        [180, 200, 230],\n",
              "        [180, 200, 230]]], dtype=uint8)</pre></div><script>\n",
              "      (() => {\n",
              "      const titles = ['show data', 'hide data'];\n",
              "      let index = 0\n",
              "      document.querySelector('#id-042fc59d-5f66-48fb-af93-6fb3b2f78daf button').onclick = (e) => {\n",
              "        document.querySelector('#id-042fc59d-5f66-48fb-af93-6fb3b2f78daf').classList.toggle('show_array');\n",
              "        index = (++index) % 2;\n",
              "        document.querySelector('#id-042fc59d-5f66-48fb-af93-6fb3b2f78daf button').textContent = titles[index];\n",
              "        e.preventDefault();\n",
              "        e.stopPropagation();\n",
              "      }\n",
              "      })();\n",
              "    </script>"
            ]
          },
          "metadata": {},
          "execution_count": 44
        }
      ]
    },
    {
      "cell_type": "code",
      "source": [],
      "metadata": {
        "id": "aYR9ybyOfMmO"
      },
      "execution_count": null,
      "outputs": []
    }
  ]
}