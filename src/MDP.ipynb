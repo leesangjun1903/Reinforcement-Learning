{
  "nbformat": 4,
  "nbformat_minor": 0,
  "metadata": {
    "colab": {
      "provenance": []
    },
    "kernelspec": {
      "name": "python3",
      "display_name": "Python 3"
    },
    "language_info": {
      "name": "python"
    }
  },
  "cells": [
    {
      "cell_type": "markdown",
      "source": [
        "# Markov Chain"
      ],
      "metadata": {
        "id": "rggKm91V1Urj"
      }
    },
    {
      "cell_type": "markdown",
      "source": [
        "# State"
      ],
      "metadata": {
        "id": "KW2ZIVwUxfzn"
      }
    },
    {
      "cell_type": "code",
      "execution_count": null,
      "metadata": {
        "id": "9QCC_9xdw8vF"
      },
      "outputs": [],
      "source": [
        "import numpy as np\n",
        "states = [0,1,2,3]\n",
        "N_STATES = len(states)"
      ]
    },
    {
      "cell_type": "markdown",
      "source": [
        "# Transition probability"
      ],
      "metadata": {
        "id": "XcD_6i-3xjhW"
      }
    },
    {
      "cell_type": "code",
      "source": [
        "P = np.empty((N_STATES, N_STATES))\n",
        "l = 0.3\n",
        "r = 0.3\n",
        "s = 1-l-r\n",
        "\n",
        "#             0   1   2   3\n",
        "P[ 0, :] = [s+l,  r,  0,  0]\n",
        "P[ 1, :] = [  l,  s,  r,  0]\n",
        "P[ 2, :] = [  0,  l,  s,  r]\n",
        "P[ 3, :] = [  0,  0,  l,s+r]\n",
        "\n",
        "print(P)"
      ],
      "metadata": {
        "colab": {
          "base_uri": "https://localhost:8080/"
        },
        "id": "9FyPbrjgxeYU",
        "outputId": "6598b58a-a7e8-4952-d3ca-28deba2b388e"
      },
      "execution_count": null,
      "outputs": [
        {
          "output_type": "stream",
          "name": "stdout",
          "text": [
            "[[0.7 0.3 0.  0. ]\n",
            " [0.3 0.4 0.3 0. ]\n",
            " [0.  0.3 0.4 0.3]\n",
            " [0.  0.  0.3 0.7]]\n"
          ]
        }
      ]
    },
    {
      "cell_type": "code",
      "source": [
        "np.random.seed(3)\n",
        "state = np.random.choice(states)\n",
        "print(state)"
      ],
      "metadata": {
        "colab": {
          "base_uri": "https://localhost:8080/"
        },
        "id": "EmiVT41wxluE",
        "outputId": "30f5dc21-156f-4455-ffa5-06a63f38a329"
      },
      "execution_count": null,
      "outputs": [
        {
          "output_type": "stream",
          "name": "stdout",
          "text": [
            "2\n"
          ]
        }
      ]
    },
    {
      "cell_type": "code",
      "source": [
        "%matplotlib inline\n",
        "import matplotlib.pyplot as plt\n",
        "np.random.seed(1)\n",
        "num_steps = 5\n",
        "msg = \"state: {:2}, next_state: {:2}, transition_prob: {}\"\n",
        "state_history = []\n",
        "state_history.append(state)\n",
        "for _ in range(num_steps):\n",
        "    next_state = np.random.choice(states, p=P[state, :])\n",
        "    prob = P[state, next_state]\n",
        "    print(msg.format(state, next_state, prob))\n",
        "    state = next_state\n",
        "    state_history.append(state)\n",
        "fig, ax = plt.subplots()\n",
        "ax.plot(state_history, 'o--')\n",
        "ax.set_ylim([-0.1,3.1])\n",
        "ax.set_yticks([0,1,2,3])\n",
        "plt.show()"
      ],
      "metadata": {
        "colab": {
          "base_uri": "https://localhost:8080/",
          "height": 517
        },
        "id": "VcBWGCvLy4SO",
        "outputId": "dd5fb5d0-f2f2-4366-b047-46d71a8f1f7c"
      },
      "execution_count": null,
      "outputs": [
        {
          "output_type": "stream",
          "name": "stdout",
          "text": [
            "state:  2, next_state:  2, transition_prob: 0.39999999999999997\n",
            "state:  2, next_state:  3, transition_prob: 0.3\n",
            "state:  3, next_state:  2, transition_prob: 0.3\n",
            "state:  2, next_state:  2, transition_prob: 0.39999999999999997\n",
            "state:  2, next_state:  1, transition_prob: 0.3\n"
          ]
        },
        {
          "output_type": "display_data",
          "data": {
            "text/plain": [
              "<Figure size 640x480 with 1 Axes>"
            ],
            "image/png": "[encoded data removed]"
          },
          "metadata": {}
        }
      ]
    },
    {
      "cell_type": "markdown",
      "source": [
        "# MDP"
      ],
      "metadata": {
        "id": "MBw9tzL11Y9I"
      }
    },
    {
      "cell_type": "code",
      "source": [
        "%matplotlib inline\n",
        "import matplotlib.pyplot as plt\n",
        "import numpy as np; np.random.seed(0)"
      ],
      "metadata": {
        "id": "PFg-SKAny7LP"
      },
      "execution_count": null,
      "outputs": []
    },
    {
      "cell_type": "code",
      "source": [
        "states = [0,1,2,3,4,5,6,7,8,9,10]\n",
        "n_states = len(states)"
      ],
      "metadata": {
        "id": "aGAUcGG81gMu"
      },
      "execution_count": null,
      "outputs": []
    },
    {
      "cell_type": "code",
      "source": [
        "actions = [0,1,2,3] # left, right, up, down\n",
        "n_actions = len(actions)"
      ],
      "metadata": {
        "id": "AL8NRZvi1h3a"
      },
      "execution_count": null,
      "outputs": []
    },
    {
      "cell_type": "markdown",
      "source": [
        "You move according to your action with 80\n",
        " probability.\n",
        "\n",
        "Your move may have a left and right one click error with 10\n",
        " probability each.\n",
        "\n",
        "If there is a barrier against your move, your move bounds back."
      ],
      "metadata": {
        "id": "NVKExQ9B2Tam"
      }
    },
    {
      "cell_type": "code",
      "source": [
        "# transition probabilities\n",
        "P = np.empty((n_states, n_actions, n_states))\n",
        "\n",
        "#                0   1   2   3   4   5   6   7   8   9  10\n",
        "P[ 0, 0, :] = [ .9,  0,  0,  0, .1,  0,  0,  0,  0,  0,  0]\n",
        "P[ 0, 1, :] = [ .1, .8,  0,  0, .1,  0,  0,  0,  0,  0,  0]\n",
        "P[ 0, 2, :] = [ .9, .1,  0,  0,  0,  0,  0,  0,  0,  0,  0]\n",
        "P[ 0, 3, :] = [ .1, .1,  0,  0, .8,  0,  0,  0,  0,  0,  0]\n",
        "\n",
        "#                0   1   2   3   4   5   6   7   8   9  10\n",
        "P[ 1, 0, :] = [ .8, .2,  0,  0,  0,  0,  0,  0,  0,  0,  0]\n",
        "P[ 1, 1, :] = [  0, .2, .8,  0,  0,  0,  0,  0,  0,  0,  0]\n",
        "P[ 1, 2, :] = [ .1, .8, .1,  0,  0,  0,  0,  0,  0,  0,  0]\n",
        "P[ 1, 3, :] = [ .1, .8, .1,  0,  0,  0,  0,  0,  0,  0,  0]\n",
        "\n",
        "#                0   1   2   3   4   5   6   7   8   9  10\n",
        "P[ 2, 0, :] = [  0, .8, .1,  0,  0, .1,  0,  0,  0,  0,  0]\n",
        "P[ 2, 1, :] = [  0,  0, .1, .8,  0, .1,  0,  0,  0,  0,  0]\n",
        "P[ 2, 2, :] = [  0, .1, .8, .1,  0,  0,  0,  0,  0,  0,  0]\n",
        "P[ 2, 3, :] = [  0, .1,  0, .1,  0, .8,  0,  0,  0,  0,  0]\n",
        "\n",
        "#                0   1   2   3   4   5   6   7   8   9  10\n",
        "P[ 3, 0, :] = [  0,  0,  0,  1,  0,  0,  0,  0,  0,  0,  0]\n",
        "P[ 3, 1, :] = [  0,  0,  0,  1,  0,  0,  0,  0,  0,  0,  0]\n",
        "P[ 3, 2, :] = [  0,  0,  0,  1,  0,  0,  0,  0,  0,  0,  0]\n",
        "P[ 3, 3, :] = [  0,  0,  0,  1,  0,  0,  0,  0,  0,  0,  0]\n",
        "\n",
        "#                0   1   2   3   4   5   6   7   8   9  10\n",
        "P[ 4, 0, :] = [ .1,  0,  0,  0, .8,  0,  0, .1,  0,  0,  0]\n",
        "P[ 4, 1, :] = [ .1,  0,  0,  0, .8,  0,  0, .1,  0,  0,  0]\n",
        "P[ 4, 2, :] = [ .8,  0,  0,  0, .2,  0,  0,  0,  0,  0,  0]\n",
        "P[ 4, 3, :] = [  0,  0,  0,  0, .2,  0,  0, .8,  0,  0,  0]\n",
        "\n",
        "#                0   1   2   3   4   5   6   7   8   9  10\n",
        "P[ 5, 0, :] = [  0,  0, .1,  0,  0, .8,  0,  0,  0, .1,  0]\n",
        "P[ 5, 1, :] = [  0,  0, .1,  0,  0,  0, .8,  0,  0, .1,  0]\n",
        "P[ 5, 2, :] = [  0,  0, .8,  0,  0, .1, .1,  0,  0,  0,  0]\n",
        "P[ 5, 3, :] = [  0,  0,  0,  0,  0, .1, .1,  0,  0, .8,  0]\n",
        "\n",
        "#                0   1   2   3   4   5   6   7   8   9  10\n",
        "P[ 6, 0, :] = [  0,  0,  0,  0,  0,  0,  1,  0,  0,  0,  0]\n",
        "P[ 6, 1, :] = [  0,  0,  0,  0,  0,  0,  1,  0,  0,  0,  0]\n",
        "P[ 6, 2, :] = [  0,  0,  0,  0,  0,  0,  1,  0,  0,  0,  0]\n",
        "P[ 6, 3, :] = [  0,  0,  0,  0,  0,  0,  1,  0,  0,  0,  0]\n",
        "\n",
        "#                0   1   2   3   4   5   6   7   8   9  10\n",
        "P[ 7, 0, :] = [  0,  0,  0,  0, .1,  0,  0, .9,  0,  0,  0]\n",
        "P[ 7, 1, :] = [  0,  0,  0,  0, .1,  0,  0, .1, .8,  0,  0]\n",
        "P[ 7, 2, :] = [  0,  0,  0,  0, .8,  0,  0, .1, .1,  0,  0]\n",
        "P[ 7, 3, :] = [  0,  0,  0,  0,  0,  0,  0, .9, .1,  0,  0]\n",
        "\n",
        "#                0   1   2   3   4   5   6   7   8   9  10\n",
        "P[ 8, 0, :] = [  0,  0,  0,  0,  0,  0,  0, .8, .2,  0,  0]\n",
        "P[ 8, 1, :] = [  0,  0,  0,  0,  0,  0,  0,  0, .2, .8,  0]\n",
        "P[ 8, 2, :] = [  0,  0,  0,  0,  0,  0,  0, .1, .8, .1,  0]\n",
        "P[ 8, 3, :] = [  0,  0,  0,  0,  0,  0,  0, .1, .8, .1,  0]\n",
        "\n",
        "#                0   1   2   3   4   5   6   7   8   9  10\n",
        "P[ 9, 0, :] = [  0,  0,  0,  0,  0, .1,  0,  0, .8, .1,  0]\n",
        "P[ 9, 1, :] = [  0,  0,  0,  0,  0, .1,  0,  0,  0, .1, .8]\n",
        "P[ 9, 2, :] = [  0,  0,  0,  0,  0, .8,  0,  0, .1,  0, .1]\n",
        "P[ 9, 3, :] = [  0,  0,  0,  0,  0,  0,  0,  0, .1, .8, .1]\n",
        "\n",
        "#                0   1   2   3   4   5   6   7   8   9  10\n",
        "P[10, 0, :] = [  0,  0,  0,  0,  0,  0, .1,  0,  0, .8, .1]\n",
        "P[10, 1, :] = [  0,  0,  0,  0,  0,  0, .1,  0,  0,  0, .9]\n",
        "P[10, 2, :] = [  0,  0,  0,  0,  0,  0, .8,  0,  0, .1, .1]\n",
        "P[10, 3, :] = [  0,  0,  0,  0,  0,  0,  0,  0,  0, .1, .9]"
      ],
      "metadata": {
        "id": "W2ml_f7n2Gjq"
      },
      "execution_count": null,
      "outputs": []
    },
    {
      "cell_type": "markdown",
      "source": [
        "# Reward"
      ],
      "metadata": {
        "id": "Cs7lIuxN3X34"
      }
    },
    {
      "cell_type": "markdown",
      "source": [
        "-0.02 for each action.\n",
        "\n",
        "If you reach the state 3, you win and get the final reward 1 in addition.\n",
        "\n",
        "If you reach the state 6, you lose and get the final reward -1 in addition."
      ],
      "metadata": {
        "id": "B1INb0tI3aia"
      }
    },
    {
      "cell_type": "code",
      "source": [
        "# rewards\n",
        "R = -0.02 * np.ones((n_states, n_actions, n_states))\n",
        "R[:,:,3] = - 0.02 + 1\n",
        "R[:,:,6] = - 0.02 - 1"
      ],
      "metadata": {
        "id": "c6CGKmg93VVO"
      },
      "execution_count": null,
      "outputs": []
    },
    {
      "cell_type": "markdown",
      "source": [
        "# Discount factor"
      ],
      "metadata": {
        "id": "354pu3HK3ecD"
      }
    },
    {
      "cell_type": "code",
      "source": [
        "gamma = 0.99"
      ],
      "metadata": {
        "id": "EynbEq5_3cah"
      },
      "execution_count": null,
      "outputs": []
    },
    {
      "cell_type": "markdown",
      "source": [
        "# Bad policy"
      ],
      "metadata": {
        "id": "2AByL7334P2d"
      }
    },
    {
      "cell_type": "code",
      "source": [
        "policy = np.empty((n_states, n_actions))\n",
        "policy[0,:] = [0,1,0,0]\n",
        "policy[1,:] = [0,1,0,0]\n",
        "policy[2,:] = [0,1,0,0]\n",
        "policy[3,:] = [0,1,0,0]\n",
        "policy[4,:] = [0,0,0,1]\n",
        "policy[5,:] = [0,1,0,0]\n",
        "policy[6,:] = [0,1,0,0]\n",
        "policy[7,:] = [0,1,0,0]\n",
        "policy[8,:] = [0,1,0,0]\n",
        "policy[9,:] = [0,0,1,0]\n",
        "policy[10,:] = [0,0,1,0]"
      ],
      "metadata": {
        "id": "jGPl-xmH3gcf"
      },
      "execution_count": null,
      "outputs": []
    },
    {
      "cell_type": "markdown",
      "source": [
        "# Random policy"
      ],
      "metadata": {
        "id": "60b7lbXW4V7g"
      }
    },
    {
      "cell_type": "code",
      "source": [
        "policy = 0.25*np.ones((n_states, n_actions))"
      ],
      "metadata": {
        "id": "1jKJ027_4UJ7"
      },
      "execution_count": null,
      "outputs": []
    },
    {
      "cell_type": "markdown",
      "source": [
        "# Optimal policy"
      ],
      "metadata": {
        "id": "PxiAlwnI4byP"
      }
    },
    {
      "cell_type": "code",
      "source": [
        "policy = np.empty((n_states, n_actions))\n",
        "policy[0,:] = [0,1,0,0]\n",
        "policy[1,:] = [0,1,0,0]\n",
        "policy[2,:] = [0,1,0,0]\n",
        "policy[3,:] = [0,1,0,0]\n",
        "policy[4,:] = [0,0,1,0]\n",
        "policy[5,:] = [0,0,1,0]\n",
        "policy[6,:] = [0,0,1,0]\n",
        "policy[7,:] = [0,0,1,0]\n",
        "policy[8,:] = [1,0,0,0]\n",
        "policy[9,:] = [1,0,0,0]\n",
        "policy[10,:] = [1,0,0,0]"
      ],
      "metadata": {
        "id": "7Ms7fE-A4X3V"
      },
      "execution_count": null,
      "outputs": []
    },
    {
      "cell_type": "code",
      "source": [
        "# policy\n",
        "if 1:\n",
        "    # bad policy\n",
        "    policy = np.empty((n_states, n_actions))\n",
        "    policy[0,:] = [0,1,0,0]\n",
        "    policy[1,:] = [0,1,0,0]\n",
        "    policy[2,:] = [0,1,0,0]\n",
        "    policy[3,:] = [0,1,0,0]\n",
        "    policy[4,:] = [0,0,0,1]\n",
        "    policy[5,:] = [0,1,0,0]\n",
        "    policy[6,:] = [0,1,0,0]\n",
        "    policy[7,:] = [0,1,0,0]\n",
        "    policy[8,:] = [0,1,0,0]\n",
        "    policy[9,:] = [0,0,1,0]\n",
        "    policy[10,:] = [0,0,1,0]\n",
        "elif 0:\n",
        "    # random policy\n",
        "    policy = 0.25*np.ones((n_states, n_actions))\n",
        "elif 0:\n",
        "    # optimal policy\n",
        "    policy = np.empty((n_states, n_actions))\n",
        "    policy[0,:] = [0,1,0,0]\n",
        "    policy[1,:] = [0,1,0,0]\n",
        "    policy[2,:] = [0,1,0,0]\n",
        "    policy[3,:] = [0,1,0,0]\n",
        "    policy[4,:] = [0,0,1,0]\n",
        "    policy[5,:] = [0,0,1,0]\n",
        "    policy[6,:] = [0,0,1,0]\n",
        "    policy[7,:] = [0,0,1,0]\n",
        "    policy[8,:] = [1,0,0,0]\n",
        "    policy[9,:] = [1,0,0,0]\n",
        "    policy[10,:] = [1,0,0,0]\n",
        "elif 1:\n",
        "    # optimal policy + noise\n",
        "    # we use optimal policy with probability 1/(1+ep)\n",
        "    # we use random policy with probability ep/(1+ep)\n",
        "    ep = 0.1\n",
        "    policy = np.empty((n_states, n_actions))\n",
        "    policy[0,:] = [0,1,0,0]\n",
        "    policy[1,:] = [0,1,0,0]\n",
        "    policy[2,:] = [0,1,0,0]\n",
        "    policy[3,:] = [0,1,0,0]\n",
        "    policy[4,:] = [0,0,1,0]\n",
        "    policy[5,:] = [0,0,1,0]\n",
        "    policy[6,:] = [0,0,1,0]\n",
        "    policy[7,:] = [0,0,1,0]\n",
        "    policy[8,:] = [1,0,0,0]\n",
        "    policy[9,:] = [1,0,0,0]\n",
        "    policy[10,:] = [1,0,0,0]\n",
        "    policy = policy + (ep/4)*np.ones((n_states, n_actions))\n",
        "    policy = policy / np.sum(policy, axis=1).reshape((n_states,1))"
      ],
      "metadata": {
        "id": "HjoanfaW4srz"
      },
      "execution_count": null,
      "outputs": []
    },
    {
      "cell_type": "markdown",
      "source": [
        "Generate random samples from discrete distribution - np.random.choice"
      ],
      "metadata": {
        "id": "1YT_BS0R40tl"
      }
    },
    {
      "cell_type": "code",
      "source": [
        "x        = [ -3,  -1,   1,   2,   5]\n",
        "pmf      = [0.1, 0.1, 0.1, 0.5, 0.2]\n",
        "x_sample = np.random.choice(x, p=pmf, size=(1000,))\n",
        "\n",
        "plt.hist(x_sample)\n",
        "plt.show()"
      ],
      "metadata": {
        "colab": {
          "base_uri": "https://localhost:8080/",
          "height": 430
        },
        "id": "AGoVtTiJ4yum",
        "outputId": "d3ca1a6d-76c4-45e7-ea8c-38cb54351cb9"
      },
      "execution_count": null,
      "outputs": [
        {
          "output_type": "display_data",
          "data": {
            "text/plain": [
              "<Figure size 640x480 with 1 Axes>"
            ],
            "image/png": "[encoded data removed]"
          },
          "metadata": {}
        }
      ]
    },
    {
      "cell_type": "markdown",
      "source": [
        "# Simulation of MDP : epoch 2"
      ],
      "metadata": {
        "id": "cgpas4II48Y8"
      }
    },
    {
      "cell_type": "code",
      "source": [
        "# Simulation of MDP in Andrew Ng's Lecture 16\n",
        "\n",
        "# import libraries\n",
        "import numpy as np\n",
        "\n",
        "# set parameters ###############################################################\n",
        "epoch = 2\n",
        "# set parameters ###############################################################\n",
        "\n",
        "# state\n",
        "states = [0, 1, 2, 3, 4, 5, 6, 7, 8, 9, 10]\n",
        "n_states = len(states)\n",
        "\n",
        "# action\n",
        "actions = [0, 1, 2, 3]  # left, right, up, down\n",
        "n_actions = len(actions)\n",
        "\n",
        "# transition probabilities\n",
        "P = np.empty((n_states, n_actions, n_states))\n",
        "\n",
        "#                0   1   2   3   4   5   6   7   8   9  10\n",
        "P[ 0, 0, :] = [ .9,  0,  0,  0, .1,  0,  0,  0,  0,  0,  0]\n",
        "P[ 0, 1, :] = [ .1, .8,  0,  0, .1,  0,  0,  0,  0,  0,  0]\n",
        "P[ 0, 2, :] = [ .9, .1,  0,  0,  0,  0,  0,  0,  0,  0,  0]\n",
        "P[ 0, 3, :] = [ .1, .1,  0,  0, .8,  0,  0,  0,  0,  0,  0]\n",
        "\n",
        "#                0   1   2   3   4   5   6   7   8   9  10\n",
        "P[ 1, 0, :] = [ .8, .2,  0,  0,  0,  0,  0,  0,  0,  0,  0]\n",
        "P[ 1, 1, :] = [  0, .2, .8,  0,  0,  0,  0,  0,  0,  0,  0]\n",
        "P[ 1, 2, :] = [ .1, .8, .1,  0,  0,  0,  0,  0,  0,  0,  0]\n",
        "P[ 1, 3, :] = [ .1, .8, .1,  0,  0,  0,  0,  0,  0,  0,  0]\n",
        "\n",
        "#                0   1   2   3   4   5   6   7   8   9  10\n",
        "P[ 2, 0, :] = [  0, .8, .1,  0,  0, .1,  0,  0,  0,  0,  0]\n",
        "P[ 2, 1, :] = [  0,  0, .1, .8,  0, .1,  0,  0,  0,  0,  0]\n",
        "P[ 2, 2, :] = [  0, .1, .8, .1,  0,  0,  0,  0,  0,  0,  0]\n",
        "P[ 2, 3, :] = [  0, .1,  0, .1,  0, .8,  0,  0,  0,  0,  0]\n",
        "\n",
        "#                0   1   2   3   4   5   6   7   8   9  10\n",
        "P[ 3, 0, :] = [  0,  0,  0,  1,  0,  0,  0,  0,  0,  0,  0]\n",
        "P[ 3, 1, :] = [  0,  0,  0,  1,  0,  0,  0,  0,  0,  0,  0]\n",
        "P[ 3, 2, :] = [  0,  0,  0,  1,  0,  0,  0,  0,  0,  0,  0]\n",
        "P[ 3, 3, :] = [  0,  0,  0,  1,  0,  0,  0,  0,  0,  0,  0]\n",
        "\n",
        "#                0   1   2   3   4   5   6   7   8   9  10\n",
        "P[ 4, 0, :] = [ .1,  0,  0,  0, .8,  0,  0, .1,  0,  0,  0]\n",
        "P[ 4, 1, :] = [ .1,  0,  0,  0, .8,  0,  0, .1,  0,  0,  0]\n",
        "P[ 4, 2, :] = [ .8,  0,  0,  0, .2,  0,  0,  0,  0,  0,  0]\n",
        "P[ 4, 3, :] = [  0,  0,  0,  0, .2,  0,  0, .8,  0,  0,  0]\n",
        "\n",
        "#                0   1   2   3   4   5   6   7   8   9  10\n",
        "P[ 5, 0, :] = [  0,  0, .1,  0,  0, .8,  0,  0,  0, .1,  0]\n",
        "P[ 5, 1, :] = [  0,  0, .1,  0,  0,  0, .8,  0,  0, .1,  0]\n",
        "P[ 5, 2, :] = [  0,  0, .8,  0,  0, .1, .1,  0,  0,  0,  0]\n",
        "P[ 5, 3, :] = [  0,  0,  0,  0,  0, .1, .1,  0,  0, .8,  0]\n",
        "\n",
        "#                0   1   2   3   4   5   6   7   8   9  10\n",
        "P[ 6, 0, :] = [  0,  0,  0,  0,  0,  0,  1,  0,  0,  0,  0]\n",
        "P[ 6, 1, :] = [  0,  0,  0,  0,  0,  0,  1,  0,  0,  0,  0]\n",
        "P[ 6, 2, :] = [  0,  0,  0,  0,  0,  0,  1,  0,  0,  0,  0]\n",
        "P[ 6, 3, :] = [  0,  0,  0,  0,  0,  0,  1,  0,  0,  0,  0]\n",
        "\n",
        "#                0   1   2   3   4   5   6   7   8   9  10\n",
        "P[ 7, 0, :] = [  0,  0,  0,  0, .1,  0,  0, .9,  0,  0,  0]\n",
        "P[ 7, 1, :] = [  0,  0,  0,  0, .1,  0,  0, .1, .8,  0,  0]\n",
        "P[ 7, 2, :] = [  0,  0,  0,  0, .8,  0,  0, .1, .1,  0,  0]\n",
        "P[ 7, 3, :] = [  0,  0,  0,  0,  0,  0,  0, .9, .1,  0,  0]\n",
        "\n",
        "#                0   1   2   3   4   5   6   7   8   9  10\n",
        "P[ 8, 0, :] = [  0,  0,  0,  0,  0,  0,  0, .8, .2,  0,  0]\n",
        "P[ 8, 1, :] = [  0,  0,  0,  0,  0,  0,  0,  0, .2, .8,  0]\n",
        "P[ 8, 2, :] = [  0,  0,  0,  0,  0,  0,  0, .1, .8, .1,  0]\n",
        "P[ 8, 3, :] = [  0,  0,  0,  0,  0,  0,  0, .1, .8, .1,  0]\n",
        "\n",
        "#                0   1   2   3   4   5   6   7   8   9  10\n",
        "P[ 9, 0, :] = [  0,  0,  0,  0,  0, .1,  0,  0, .8, .1,  0]\n",
        "P[ 9, 1, :] = [  0,  0,  0,  0,  0, .1,  0,  0,  0, .1, .8]\n",
        "P[ 9, 2, :] = [  0,  0,  0,  0,  0, .8,  0,  0, .1,  0, .1]\n",
        "P[ 9, 3, :] = [  0,  0,  0,  0,  0,  0,  0,  0, .1, .8, .1]\n",
        "\n",
        "#                0   1   2   3   4   5   6   7   8   9  10\n",
        "P[10, 0, :] = [  0,  0,  0,  0,  0,  0, .1,  0,  0, .8, .1]\n",
        "P[10, 1, :] = [  0,  0,  0,  0,  0,  0, .1,  0,  0,  0, .9]\n",
        "P[10, 2, :] = [  0,  0,  0,  0,  0,  0, .8,  0,  0, .1, .1]\n",
        "P[10, 3, :] = [  0,  0,  0,  0,  0,  0,  0,  0,  0, .1, .9]\n",
        "\n",
        "# rewards\n",
        "R = -0.02 * np.ones((n_states, n_actions, n_states))\n",
        "R[:,:,3] = - 0.02 + 1\n",
        "R[:,:,6] = - 0.02 - 1\n",
        "\n",
        "# discount factor\n",
        "gamma = 0.99\n",
        "\n",
        "# policy\n",
        "if 0:\n",
        "    # bad policy\n",
        "    policy = np.empty((n_states, n_actions))\n",
        "    policy[0,:] = [0,1,0,0]\n",
        "    policy[1,:] = [0,1,0,0]\n",
        "    policy[2,:] = [0,1,0,0]\n",
        "    policy[3,:] = [0,1,0,0]\n",
        "    policy[4,:] = [0,0,0,1]\n",
        "    policy[5,:] = [0,1,0,0]\n",
        "    policy[6,:] = [0,1,0,0]\n",
        "    policy[7,:] = [0,1,0,0]\n",
        "    policy[8,:] = [0,1,0,0]\n",
        "    policy[9,:] = [0,0,1,0]\n",
        "    policy[10,:] = [0,0,1,0]\n",
        "elif 1:\n",
        "    # random policy\n",
        "    policy = 0.25*np.ones((n_states, n_actions))\n",
        "elif 1:\n",
        "    # optimal policy\n",
        "    policy = np.empty((n_states, n_actions))\n",
        "    policy[0,:] = [0,1,0,0]\n",
        "    policy[1,:] = [0,1,0,0]\n",
        "    policy[2,:] = [0,1,0,0]\n",
        "    policy[3,:] = [0,1,0,0]\n",
        "    policy[4,:] = [0,0,1,0]\n",
        "    policy[5,:] = [0,0,1,0]\n",
        "    policy[6,:] = [0,0,1,0]\n",
        "    policy[7,:] = [0,0,1,0]\n",
        "    policy[8,:] = [1,0,0,0]\n",
        "    policy[9,:] = [1,0,0,0]\n",
        "    policy[10,:] = [1,0,0,0]\n",
        "elif 1:\n",
        "    # optimal policy + noise\n",
        "    # we use optimal policy with probability 1/(1+ep)\n",
        "    # we use random policy with probability ep/(1+ep)\n",
        "    ep = 0.1\n",
        "    policy = np.empty((n_states, n_actions))\n",
        "    policy[0,:] = [0,1,0,0]\n",
        "    policy[1,:] = [0,1,0,0]\n",
        "    policy[2,:] = [0,1,0,0]\n",
        "    policy[3,:] = [0,1,0,0]\n",
        "    policy[4,:] = [0,0,1,0]\n",
        "    policy[5,:] = [0,0,1,0]\n",
        "    policy[6,:] = [0,0,1,0]\n",
        "    policy[7,:] = [0,0,1,0]\n",
        "    policy[8,:] = [1,0,0,0]\n",
        "    policy[9,:] = [1,0,0,0]\n",
        "    policy[10,:] = [1,0,0,0]\n",
        "    policy = policy + (ep/4)*np.ones((n_states, n_actions))\n",
        "    policy = policy / np.sum(policy, axis=1).reshape((n_states,1))\n",
        "\n",
        "# MDP simulation\n",
        "msg = \"s: {:2}, a: {}, r: {:5.2f}, s1: {:2}, done: {:1}, info: {}\"\n",
        "for _ in range(epoch):\n",
        "\n",
        "    # indicate game is not over yet\n",
        "    done = False\n",
        "\n",
        "    # choose initial state randomly, not from 3 or 6\n",
        "    s = np.random.choice([0, 1, 2, 4, 5, 7, 8, 9, 10])\n",
        "\n",
        "    while not done:\n",
        "        # choose action using current policy\n",
        "        a = np.random.choice(actions, p=policy[s, :])\n",
        "\n",
        "        # probaility of choosing action a under the current policy\n",
        "        prob = policy[s, a]\n",
        "\n",
        "        # choose next state using transition probabilities\n",
        "        s1 = np.random.choice(states, p=P[s, a, :])\n",
        "\n",
        "        # print current situation\n",
        "        msg_print = msg.format(s, a, R[s, a, s1], s1, done, \"prob \"+str(prob))\n",
        "        print(msg_print)\n",
        "\n",
        "        if (s1 == 3):\n",
        "            # if win,\n",
        "            # ready to break while loop by letting done = True\n",
        "            done = True\n",
        "            # print final win comment\n",
        "            print('final reward 1 obtained and win the game!')\n",
        "        elif (s1 == 6):\n",
        "            # if lose,\n",
        "            # ready to break while loop by letting done = True\n",
        "            done = True\n",
        "            # print final lose comment\n",
        "            print('final reward -1 obtained and lose the game!')\n",
        "        else:\n",
        "            # if game is not over,\n",
        "            # continue playing game\n",
        "            s = s1"
      ],
      "metadata": {
        "colab": {
          "base_uri": "https://localhost:8080/"
        },
        "id": "sqyIa32042-k",
        "outputId": "ed192888-7d7e-46d1-ecf1-be85460f7edc"
      },
      "execution_count": null,
      "outputs": [
        {
          "output_type": "stream",
          "name": "stdout",
          "text": [
            "s:  1, a: 3, r: -0.02, s1:  1, done: 0, info: prob 0.25\n",
            "s:  1, a: 3, r: -0.02, s1:  1, done: 0, info: prob 0.25\n",
            "s:  1, a: 2, r: -0.02, s1:  1, done: 0, info: prob 0.25\n",
            "s:  1, a: 0, r: -0.02, s1:  0, done: 0, info: prob 0.25\n",
            "s:  0, a: 0, r: -0.02, s1:  0, done: 0, info: prob 0.25\n",
            "s:  0, a: 2, r: -0.02, s1:  0, done: 0, info: prob 0.25\n",
            "s:  0, a: 3, r: -0.02, s1:  0, done: 0, info: prob 0.25\n",
            "s:  0, a: 2, r: -0.02, s1:  0, done: 0, info: prob 0.25\n",
            "s:  0, a: 3, r: -0.02, s1:  4, done: 0, info: prob 0.25\n",
            "s:  4, a: 0, r: -0.02, s1:  4, done: 0, info: prob 0.25\n",
            "s:  4, a: 2, r: -0.02, s1:  4, done: 0, info: prob 0.25\n",
            "s:  4, a: 0, r: -0.02, s1:  4, done: 0, info: prob 0.25\n",
            "s:  4, a: 3, r: -0.02, s1:  7, done: 0, info: prob 0.25\n",
            "s:  7, a: 3, r: -0.02, s1:  7, done: 0, info: prob 0.25\n",
            "s:  7, a: 0, r: -0.02, s1:  7, done: 0, info: prob 0.25\n",
            "s:  7, a: 1, r: -0.02, s1:  4, done: 0, info: prob 0.25\n",
            "s:  4, a: 2, r: -0.02, s1:  0, done: 0, info: prob 0.25\n",
            "s:  0, a: 1, r: -0.02, s1:  1, done: 0, info: prob 0.25\n",
            "s:  1, a: 3, r: -0.02, s1:  1, done: 0, info: prob 0.25\n",
            "s:  1, a: 3, r: -0.02, s1:  0, done: 0, info: prob 0.25\n",
            "s:  0, a: 2, r: -0.02, s1:  0, done: 0, info: prob 0.25\n",
            "s:  0, a: 1, r: -0.02, s1:  1, done: 0, info: prob 0.25\n",
            "s:  1, a: 1, r: -0.02, s1:  1, done: 0, info: prob 0.25\n",
            "s:  1, a: 1, r: -0.02, s1:  2, done: 0, info: prob 0.25\n",
            "s:  2, a: 1, r: -0.02, s1:  2, done: 0, info: prob 0.25\n",
            "s:  2, a: 0, r: -0.02, s1:  5, done: 0, info: prob 0.25\n",
            "s:  5, a: 1, r: -1.02, s1:  6, done: 0, info: prob 0.25\n",
            "final reward -1 obtained and lose the game!\n",
            "s:  5, a: 0, r: -0.02, s1:  5, done: 0, info: prob 0.25\n",
            "s:  5, a: 3, r: -0.02, s1:  9, done: 0, info: prob 0.25\n",
            "s:  9, a: 2, r: -0.02, s1:  5, done: 0, info: prob 0.25\n",
            "s:  5, a: 1, r: -0.02, s1:  2, done: 0, info: prob 0.25\n",
            "s:  2, a: 0, r: -0.02, s1:  1, done: 0, info: prob 0.25\n",
            "s:  1, a: 0, r: -0.02, s1:  0, done: 0, info: prob 0.25\n",
            "s:  0, a: 3, r: -0.02, s1:  4, done: 0, info: prob 0.25\n",
            "s:  4, a: 0, r: -0.02, s1:  0, done: 0, info: prob 0.25\n",
            "s:  0, a: 3, r: -0.02, s1:  4, done: 0, info: prob 0.25\n",
            "s:  4, a: 0, r: -0.02, s1:  4, done: 0, info: prob 0.25\n",
            "s:  4, a: 0, r: -0.02, s1:  4, done: 0, info: prob 0.25\n",
            "s:  4, a: 3, r: -0.02, s1:  7, done: 0, info: prob 0.25\n",
            "s:  7, a: 2, r: -0.02, s1:  4, done: 0, info: prob 0.25\n",
            "s:  4, a: 3, r: -0.02, s1:  4, done: 0, info: prob 0.25\n",
            "s:  4, a: 3, r: -0.02, s1:  7, done: 0, info: prob 0.25\n",
            "s:  7, a: 2, r: -0.02, s1:  4, done: 0, info: prob 0.25\n",
            "s:  4, a: 2, r: -0.02, s1:  4, done: 0, info: prob 0.25\n",
            "s:  4, a: 2, r: -0.02, s1:  0, done: 0, info: prob 0.25\n",
            "s:  0, a: 0, r: -0.02, s1:  0, done: 0, info: prob 0.25\n",
            "s:  0, a: 3, r: -0.02, s1:  1, done: 0, info: prob 0.25\n",
            "s:  1, a: 3, r: -0.02, s1:  0, done: 0, info: prob 0.25\n",
            "s:  0, a: 3, r: -0.02, s1:  4, done: 0, info: prob 0.25\n",
            "s:  4, a: 2, r: -0.02, s1:  0, done: 0, info: prob 0.25\n",
            "s:  0, a: 3, r: -0.02, s1:  4, done: 0, info: prob 0.25\n",
            "s:  4, a: 3, r: -0.02, s1:  7, done: 0, info: prob 0.25\n",
            "s:  7, a: 3, r: -0.02, s1:  7, done: 0, info: prob 0.25\n",
            "s:  7, a: 0, r: -0.02, s1:  7, done: 0, info: prob 0.25\n",
            "s:  7, a: 1, r: -0.02, s1:  8, done: 0, info: prob 0.25\n",
            "s:  8, a: 1, r: -0.02, s1:  9, done: 0, info: prob 0.25\n",
            "s:  9, a: 0, r: -0.02, s1:  8, done: 0, info: prob 0.25\n",
            "s:  8, a: 1, r: -0.02, s1:  9, done: 0, info: prob 0.25\n",
            "s:  9, a: 0, r: -0.02, s1:  9, done: 0, info: prob 0.25\n",
            "s:  9, a: 3, r: -0.02, s1:  9, done: 0, info: prob 0.25\n",
            "s:  9, a: 3, r: -0.02, s1: 10, done: 0, info: prob 0.25\n",
            "s: 10, a: 0, r: -0.02, s1:  9, done: 0, info: prob 0.25\n",
            "s:  9, a: 3, r: -0.02, s1: 10, done: 0, info: prob 0.25\n",
            "s: 10, a: 2, r: -1.02, s1:  6, done: 0, info: prob 0.25\n",
            "final reward -1 obtained and lose the game!\n"
          ]
        }
      ]
    },
    {
      "cell_type": "markdown",
      "source": [
        "# Simulation of MDP : epoch 1000"
      ],
      "metadata": {
        "id": "M7ajVYTh5_JU"
      }
    },
    {
      "cell_type": "code",
      "source": [
        "# Simulation of MDP in Andrew Ng's Lecture 16 - Success rate of optimal policy\n",
        "\n",
        "# import libraries\n",
        "import numpy as np\n",
        "import matplotlib.pyplot as plt\n",
        "\n",
        "# set parameters ###############################################################\n",
        "epoch = 1000\n",
        "# set parameters ###############################################################\n",
        "\n",
        "# state\n",
        "states = [0, 1, 2, 3, 4, 5, 6, 7, 8, 9, 10]\n",
        "n_states = len(states)\n",
        "\n",
        "# action\n",
        "actions = [0, 1, 2, 3]  # left, right, up, down\n",
        "n_actions = len(actions)\n",
        "\n",
        "# transition probabilities\n",
        "P = np.empty((n_states, n_actions, n_states))\n",
        "\n",
        "#                0   1   2   3   4   5   6   7   8   9  10\n",
        "P[ 0, 0, :] = [ .9,  0,  0,  0, .1,  0,  0,  0,  0,  0,  0]\n",
        "P[ 0, 1, :] = [ .1, .8,  0,  0, .1,  0,  0,  0,  0,  0,  0]\n",
        "P[ 0, 2, :] = [ .9, .1,  0,  0,  0,  0,  0,  0,  0,  0,  0]\n",
        "P[ 0, 3, :] = [ .1, .1,  0,  0, .8,  0,  0,  0,  0,  0,  0]\n",
        "\n",
        "#                0   1   2   3   4   5   6   7   8   9  10\n",
        "P[ 1, 0, :] = [ .8, .2,  0,  0,  0,  0,  0,  0,  0,  0,  0]\n",
        "P[ 1, 1, :] = [  0, .2, .8,  0,  0,  0,  0,  0,  0,  0,  0]\n",
        "P[ 1, 2, :] = [ .1, .8, .1,  0,  0,  0,  0,  0,  0,  0,  0]\n",
        "P[ 1, 3, :] = [ .1, .8, .1,  0,  0,  0,  0,  0,  0,  0,  0]\n",
        "\n",
        "#                0   1   2   3   4   5   6   7   8   9  10\n",
        "P[ 2, 0, :] = [  0, .8, .1,  0,  0, .1,  0,  0,  0,  0,  0]\n",
        "P[ 2, 1, :] = [  0,  0, .1, .8,  0, .1,  0,  0,  0,  0,  0]\n",
        "P[ 2, 2, :] = [  0, .1, .8, .1,  0,  0,  0,  0,  0,  0,  0]\n",
        "P[ 2, 3, :] = [  0, .1,  0, .1,  0, .8,  0,  0,  0,  0,  0]\n",
        "\n",
        "#                0   1   2   3   4   5   6   7   8   9  10\n",
        "P[ 3, 0, :] = [  0,  0,  0,  1,  0,  0,  0,  0,  0,  0,  0]\n",
        "P[ 3, 1, :] = [  0,  0,  0,  1,  0,  0,  0,  0,  0,  0,  0]\n",
        "P[ 3, 2, :] = [  0,  0,  0,  1,  0,  0,  0,  0,  0,  0,  0]\n",
        "P[ 3, 3, :] = [  0,  0,  0,  1,  0,  0,  0,  0,  0,  0,  0]\n",
        "\n",
        "#                0   1   2   3   4   5   6   7   8   9  10\n",
        "P[ 4, 0, :] = [ .1,  0,  0,  0, .8,  0,  0, .1,  0,  0,  0]\n",
        "P[ 4, 1, :] = [ .1,  0,  0,  0, .8,  0,  0, .1,  0,  0,  0]\n",
        "P[ 4, 2, :] = [ .8,  0,  0,  0, .2,  0,  0,  0,  0,  0,  0]\n",
        "P[ 4, 3, :] = [  0,  0,  0,  0, .2,  0,  0, .8,  0,  0,  0]\n",
        "\n",
        "#                0   1   2   3   4   5   6   7   8   9  10\n",
        "P[ 5, 0, :] = [  0,  0, .1,  0,  0, .8,  0,  0,  0, .1,  0]\n",
        "P[ 5, 1, :] = [  0,  0, .1,  0,  0,  0, .8,  0,  0, .1,  0]\n",
        "P[ 5, 2, :] = [  0,  0, .8,  0,  0, .1, .1,  0,  0,  0,  0]\n",
        "P[ 5, 3, :] = [  0,  0,  0,  0,  0, .1, .1,  0,  0, .8,  0]\n",
        "\n",
        "#                0   1   2   3   4   5   6   7   8   9  10\n",
        "P[ 6, 0, :] = [  0,  0,  0,  0,  0,  0,  1,  0,  0,  0,  0]\n",
        "P[ 6, 1, :] = [  0,  0,  0,  0,  0,  0,  1,  0,  0,  0,  0]\n",
        "P[ 6, 2, :] = [  0,  0,  0,  0,  0,  0,  1,  0,  0,  0,  0]\n",
        "P[ 6, 3, :] = [  0,  0,  0,  0,  0,  0,  1,  0,  0,  0,  0]\n",
        "\n",
        "#                0   1   2   3   4   5   6   7   8   9  10\n",
        "P[ 7, 0, :] = [  0,  0,  0,  0, .1,  0,  0, .9,  0,  0,  0]\n",
        "P[ 7, 1, :] = [  0,  0,  0,  0, .1,  0,  0, .1, .8,  0,  0]\n",
        "P[ 7, 2, :] = [  0,  0,  0,  0, .8,  0,  0, .1, .1,  0,  0]\n",
        "P[ 7, 3, :] = [  0,  0,  0,  0,  0,  0,  0, .9, .1,  0,  0]\n",
        "\n",
        "#                0   1   2   3   4   5   6   7   8   9  10\n",
        "P[ 8, 0, :] = [  0,  0,  0,  0,  0,  0,  0, .8, .2,  0,  0]\n",
        "P[ 8, 1, :] = [  0,  0,  0,  0,  0,  0,  0,  0, .2, .8,  0]\n",
        "P[ 8, 2, :] = [  0,  0,  0,  0,  0,  0,  0, .1, .8, .1,  0]\n",
        "P[ 8, 3, :] = [  0,  0,  0,  0,  0,  0,  0, .1, .8, .1,  0]\n",
        "\n",
        "#                0   1   2   3   4   5   6   7   8   9  10\n",
        "P[ 9, 0, :] = [  0,  0,  0,  0,  0, .1,  0,  0, .8, .1,  0]\n",
        "P[ 9, 1, :] = [  0,  0,  0,  0,  0, .1,  0,  0,  0, .1, .8]\n",
        "P[ 9, 2, :] = [  0,  0,  0,  0,  0, .8,  0,  0, .1,  0, .1]\n",
        "P[ 9, 3, :] = [  0,  0,  0,  0,  0,  0,  0,  0, .1, .8, .1]\n",
        "\n",
        "#                0   1   2   3   4   5   6   7   8   9  10\n",
        "P[10, 0, :] = [  0,  0,  0,  0,  0,  0, .1,  0,  0, .8, .1]\n",
        "P[10, 1, :] = [  0,  0,  0,  0,  0,  0, .1,  0,  0,  0, .9]\n",
        "P[10, 2, :] = [  0,  0,  0,  0,  0,  0, .8,  0,  0, .1, .1]\n",
        "P[10, 3, :] = [  0,  0,  0,  0,  0,  0,  0,  0,  0, .1, .9]\n",
        "\n",
        "# rewards\n",
        "R = -0.02 * np.ones((n_states, n_actions, n_states))\n",
        "R[:,:,3] = - 0.02 + 1\n",
        "R[:,:,6] = - 0.02 - 1\n",
        "\n",
        "# discount factor\n",
        "gamma = 0.99\n",
        "\n",
        "# policy\n",
        "if 0:\n",
        "    # bad policy\n",
        "    policy = np.empty((n_states, n_actions))\n",
        "    policy[0,:] = [0,1,0,0]\n",
        "    policy[1,:] = [0,1,0,0]\n",
        "    policy[2,:] = [0,1,0,0]\n",
        "    policy[3,:] = [0,1,0,0]\n",
        "    policy[4,:] = [0,0,0,1]\n",
        "    policy[5,:] = [0,1,0,0]\n",
        "    policy[6,:] = [0,1,0,0]\n",
        "    policy[7,:] = [0,1,0,0]\n",
        "    policy[8,:] = [0,1,0,0]\n",
        "    policy[9,:] = [0,0,1,0]\n",
        "    policy[10,:] = [0,0,1,0]\n",
        "elif 0:\n",
        "    # random policy\n",
        "    policy = 0.25*np.ones((n_states, n_actions))\n",
        "elif 0:\n",
        "    # optimal policy\n",
        "    policy = np.empty((n_states, n_actions))\n",
        "    policy[0,:] = [0,1,0,0]\n",
        "    policy[1,:] = [0,1,0,0]\n",
        "    policy[2,:] = [0,1,0,0]\n",
        "    policy[3,:] = [0,1,0,0]\n",
        "    policy[4,:] = [0,0,1,0]\n",
        "    policy[5,:] = [0,0,1,0]\n",
        "    policy[6,:] = [0,0,1,0]\n",
        "    policy[7,:] = [0,0,1,0]\n",
        "    policy[8,:] = [1,0,0,0]\n",
        "    policy[9,:] = [1,0,0,0]\n",
        "    policy[10,:] = [1,0,0,0]\n",
        "elif 1:\n",
        "    # optimal policy + noise\n",
        "    # we use optimal policy with probability 1/(1+ep)\n",
        "    # we use random policy with probability ep/(1+ep)\n",
        "    ep = 0.1\n",
        "    policy = np.empty((n_states, n_actions))\n",
        "    policy[0,:] = [0,1,0,0]\n",
        "    policy[1,:] = [0,1,0,0]\n",
        "    policy[2,:] = [0,1,0,0]\n",
        "    policy[3,:] = [0,1,0,0]\n",
        "    policy[4,:] = [0,0,1,0]\n",
        "    policy[5,:] = [0,0,1,0]\n",
        "    policy[6,:] = [0,0,1,0]\n",
        "    policy[7,:] = [0,0,1,0]\n",
        "    policy[8,:] = [1,0,0,0]\n",
        "    policy[9,:] = [1,0,0,0]\n",
        "    policy[10,:] = [1,0,0,0]\n",
        "    policy = policy + (ep/4)*np.ones((n_states, n_actions))\n",
        "    policy = policy / np.sum(policy, axis=1).reshape((n_states,1))\n",
        "\n",
        "# MDP simulation\n",
        "simulation_history = []\n",
        "for _ in range(epoch):\n",
        "\n",
        "    # indicate game is not over yet\n",
        "    done = False\n",
        "\n",
        "    # choose initial state randomly, not from 3 or 6\n",
        "    s = np.random.choice([0, 1, 2, 4, 5, 7, 8, 9, 10])\n",
        "\n",
        "    while not done:\n",
        "        # choose action using current policy\n",
        "        a = np.random.choice(actions, p=policy[s, :])\n",
        "\n",
        "        # choose next state using transition probabilities\n",
        "        s1 = np.random.choice(states, p=P[s, a, :])\n",
        "\n",
        "        if s1 == 3:\n",
        "            # if game is over,\n",
        "            # ready to break while loop by letting done = True\n",
        "            # append end result to simulation_history\n",
        "            done = True\n",
        "            simulation_history.append(1.)\n",
        "        elif s1 == 6:\n",
        "            # if game is over,\n",
        "            # ready to break while loop by letting done = True\n",
        "            # append end result to simulation_history\n",
        "            done = True\n",
        "            simulation_history.append(0.)\n",
        "        else:\n",
        "            # if game is not over, continue playing game\n",
        "            s = s1\n",
        "\n",
        "history = np.cumsum(simulation_history) / (np.arange(epoch) + 1)\n",
        "plt.plot(history)\n",
        "plt.show()\n",
        "\n",
        "print(\"Success rate: {}\".format(history[-1]))"
      ],
      "metadata": {
        "colab": {
          "base_uri": "https://localhost:8080/",
          "height": 447
        },
        "id": "4EJGCfVr5E_X",
        "outputId": "aaf72e79-35cb-4da7-9ffc-9e7ad5aa6639"
      },
      "execution_count": null,
      "outputs": [
        {
          "output_type": "display_data",
          "data": {
            "text/plain": [
              "<Figure size 640x480 with 1 Axes>"
            ],
            "image/png": "[encoded data removed]"
          },
          "metadata": {}
        },
        {
          "output_type": "stream",
          "name": "stdout",
          "text": [
            "Success rate: 0.947\n"
          ]
        }
      ]
    },
    {
      "cell_type": "markdown",
      "source": [
        "# Markov Chain - Continuing"
      ],
      "metadata": {
        "id": "zPiJtDzPKX-j"
      }
    },
    {
      "cell_type": "code",
      "source": [
        "import numpy as np"
      ],
      "metadata": {
        "id": "kZVvsOtjKVgu"
      },
      "execution_count": 20,
      "outputs": []
    },
    {
      "cell_type": "code",
      "source": [
        "# MC with no end\n",
        "\n",
        "# import numpy library to do vector algebra\n",
        "import numpy as np\n",
        "\n",
        "# define transition matrix\n",
        "P = np.array([[0.3, 0.7], [0.2, 0.8]])\n",
        "print(\"Trnasition Matrix:\\n\", P)\n",
        "\n",
        "# define any starting solution to state probabilities\n",
        "# Here we assume equal probabilities for all the states\n",
        "S = np.array([0.5, 0.5])\n",
        "\n",
        "# run through 10 iterations to calculate steady state\n",
        "# transition probabilities\n",
        "for i in range(10):\n",
        "    S = np.dot(S, P)\n",
        "    print(\"\\nIter {0}. Probability vector S = {1}\".format(i, S))\n",
        "\n",
        "\n",
        "print(\"\\nFinal Vector S={0}\".format(S))"
      ],
      "metadata": {
        "id": "lURTu8Pw-KRH",
        "colab": {
          "base_uri": "https://localhost:8080/"
        },
        "outputId": "dc9d4fa4-c99f-497a-f958-6fc10233ffb9"
      },
      "execution_count": 21,
      "outputs": [
        {
          "output_type": "stream",
          "name": "stdout",
          "text": [
            "Trnasition Matrix:\n",
            " [[0.3 0.7]\n",
            " [0.2 0.8]]\n",
            "\n",
            "Iter 0. Probability vector S = [0.25 0.75]\n",
            "\n",
            "Iter 1. Probability vector S = [0.225 0.775]\n",
            "\n",
            "Iter 2. Probability vector S = [0.2225 0.7775]\n",
            "\n",
            "Iter 3. Probability vector S = [0.22225 0.77775]\n",
            "\n",
            "Iter 4. Probability vector S = [0.222225 0.777775]\n",
            "\n",
            "Iter 5. Probability vector S = [0.2222225 0.7777775]\n",
            "\n",
            "Iter 6. Probability vector S = [0.22222225 0.77777775]\n",
            "\n",
            "Iter 7. Probability vector S = [0.22222223 0.77777778]\n",
            "\n",
            "Iter 8. Probability vector S = [0.22222222 0.77777778]\n",
            "\n",
            "Iter 9. Probability vector S = [0.22222222 0.77777778]\n",
            "\n",
            "Final Vector S=[0.22222222 0.77777778]\n"
          ]
        }
      ]
    },
    {
      "cell_type": "markdown",
      "source": [
        "# Markov Chain - Episodic"
      ],
      "metadata": {
        "id": "ALjMVe19LRpn"
      }
    },
    {
      "cell_type": "code",
      "source": [
        "# MC Episodic\n",
        "\n",
        "# import numpy library to do vector algebra\n",
        "import numpy as np\n",
        "\n",
        "# define transition matrix\n",
        "P = np.array([\n",
        "    [0.3, 0.5, 0.2, 0.0],\n",
        "    [0.1, 0.9, 0.0, 0.0],\n",
        "    [0.4, 0, 0, 0.6],\n",
        "    [0, 0, 0, 1]\n",
        "])\n",
        "\n",
        "print(\"Trnasition Matrix:\\n\", P)\n",
        "\n",
        "# define any starting solution to state probabilities\n",
        "# Here we assume equal probabilities for all the states\n",
        "S = np.array([1, 0, 0, 0])\n",
        "\n",
        "# run through 10 iterations to calculate steady state\n",
        "# transition probabilities\n",
        "for i in range(1000):\n",
        "    S = np.dot(S, P)\n",
        "    # print(\"\\nIter {0}. Probability vector S = {1}\".format(i, S))\n",
        "\n",
        "\n",
        "print(\"\\nFinal Vector S={0}\".format(S))"
      ],
      "metadata": {
        "colab": {
          "base_uri": "https://localhost:8080/"
        },
        "id": "GvW1Iu6NKfa0",
        "outputId": "e750d65e-df55-44f1-88ba-c85aedc4dd80"
      },
      "execution_count": 22,
      "outputs": [
        {
          "output_type": "stream",
          "name": "stdout",
          "text": [
            "Trnasition Matrix:\n",
            " [[0.3 0.5 0.2 0. ]\n",
            " [0.1 0.9 0.  0. ]\n",
            " [0.4 0.  0.  0.6]\n",
            " [0.  0.  0.  1. ]]\n",
            "\n",
            "Final Vector S=[4.73405766e-09 2.84857504e-08 9.63092427e-10 9.99999966e-01]\n"
          ]
        }
      ]
    },
    {
      "cell_type": "markdown",
      "source": [
        "# Markov Reward Process - Continuing"
      ],
      "metadata": {
        "id": "iOXZ0tFbLVcu"
      }
    },
    {
      "cell_type": "code",
      "source": [
        "# MRP Continuing\n",
        "\n",
        "# import numpy library to do vector algebra\n",
        "import numpy as np\n",
        "\n",
        "# define transition matrix\n",
        "P = np.array([[0.3, 0.7], [0.2, 0.8]])\n",
        "print(\"Trnasition Matrix:\\n\", P)\n",
        "\n",
        "# define any starting solution to state probabilities\n",
        "# Here we assume equal probabilities for all the states\n",
        "S = np.array([0.5, 0.5])\n",
        "\n",
        "# run through 10 iterations to calculate steady state\n",
        "# transition probabilities\n",
        "for i in range(10):\n",
        "    S = np.dot(S, P)\n",
        "    print(\"\\nIter {0}. Probability vector S = {1}\".format(i, S))\n",
        "\n",
        "# steady state S\n",
        "print(\"\\nFinal Vector S={0}\".format(S))"
      ],
      "metadata": {
        "colab": {
          "base_uri": "https://localhost:8080/"
        },
        "id": "kumvxX8GLSRW",
        "outputId": "73dc428d-5b38-4ebc-d605-aad55f06601d"
      },
      "execution_count": 23,
      "outputs": [
        {
          "output_type": "stream",
          "name": "stdout",
          "text": [
            "Trnasition Matrix:\n",
            " [[0.3 0.7]\n",
            " [0.2 0.8]]\n",
            "\n",
            "Iter 0. Probability vector S = [0.25 0.75]\n",
            "\n",
            "Iter 1. Probability vector S = [0.225 0.775]\n",
            "\n",
            "Iter 2. Probability vector S = [0.2225 0.7775]\n",
            "\n",
            "Iter 3. Probability vector S = [0.22225 0.77775]\n",
            "\n",
            "Iter 4. Probability vector S = [0.222225 0.777775]\n",
            "\n",
            "Iter 5. Probability vector S = [0.2222225 0.7777775]\n",
            "\n",
            "Iter 6. Probability vector S = [0.22222225 0.77777775]\n",
            "\n",
            "Iter 7. Probability vector S = [0.22222223 0.77777778]\n",
            "\n",
            "Iter 8. Probability vector S = [0.22222222 0.77777778]\n",
            "\n",
            "Iter 9. Probability vector S = [0.22222222 0.77777778]\n",
            "\n",
            "Final Vector S=[0.22222222 0.77777778]\n"
          ]
        }
      ]
    },
    {
      "cell_type": "code",
      "source": [],
      "metadata": {
        "id": "uRm1VfweLjHy"
      },
      "execution_count": null,
      "outputs": []
    }
  ]
}
